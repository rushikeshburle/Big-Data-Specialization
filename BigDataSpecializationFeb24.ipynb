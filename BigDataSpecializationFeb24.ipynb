{
  "nbformat": 4,
  "nbformat_minor": 0,
  "metadata": {
    "colab": {
      "provenance": [],
      "include_colab_link": true
    },
    "kernelspec": {
      "name": "python3",
      "display_name": "Python 3"
    },
    "language_info": {
      "name": "python"
    }
  },
  "cells": [
    {
      "cell_type": "markdown",
      "metadata": {
        "id": "view-in-github",
        "colab_type": "text"
      },
      "source": [
        "<a href=\"https://colab.research.google.com/github/rushikeshburle/Big-Data-Specialization/blob/main/BigDataSpecializationFeb24.ipynb\" target=\"_parent\"><img src=\"https://colab.research.google.com/assets/colab-badge.svg\" alt=\"Open In Colab\"/></a>"
      ]
    },
    {
      "cell_type": "code",
      "execution_count": null,
      "metadata": {
        "id": "EbSc_i03JV5F",
        "colab": {
          "base_uri": "https://localhost:8080/"
        },
        "outputId": "c434ed4d-b4ac-427e-d288-53227547827f"
      },
      "outputs": [
        {
          "output_type": "stream",
          "name": "stdout",
          "text": [
            "Collecting pyspark\n",
            "  Downloading pyspark-3.5.0.tar.gz (316.9 MB)\n",
            "\u001b[2K     \u001b[90m━━━━━━━━━━━━━━━━━━━━━━━━━━━━━━━━━━━━━━━━\u001b[0m \u001b[32m316.9/316.9 MB\u001b[0m \u001b[31m4.1 MB/s\u001b[0m eta \u001b[36m0:00:00\u001b[0m\n",
            "\u001b[?25h  Preparing metadata (setup.py) ... \u001b[?25l\u001b[?25hdone\n",
            "Requirement already satisfied: py4j==0.10.9.7 in /usr/local/lib/python3.10/dist-packages (from pyspark) (0.10.9.7)\n",
            "Building wheels for collected packages: pyspark\n",
            "  Building wheel for pyspark (setup.py) ... \u001b[?25l\u001b[?25hdone\n",
            "  Created wheel for pyspark: filename=pyspark-3.5.0-py2.py3-none-any.whl size=317425345 sha256=3fd12621e54cd451a7a67407965eff6a9e1fb8316a990be4cf0913c4fddb212b\n",
            "  Stored in directory: /root/.cache/pip/wheels/41/4e/10/c2cf2467f71c678cfc8a6b9ac9241e5e44a01940da8fbb17fc\n",
            "Successfully built pyspark\n",
            "Installing collected packages: pyspark\n",
            "Successfully installed pyspark-3.5.0\n"
          ]
        }
      ],
      "source": [
        "# step 1: install pyspark\n",
        "!pip install pyspark"
      ]
    },
    {
      "cell_type": "code",
      "source": [
        "# step 2: import library and pyspark\n",
        "import pyspark\n",
        "import pandas as pd"
      ],
      "metadata": {
        "id": "8pD8iALsnfsO"
      },
      "execution_count": null,
      "outputs": []
    },
    {
      "cell_type": "code",
      "source": [
        "# check version\n",
        "pyspark.__version__"
      ],
      "metadata": {
        "colab": {
          "base_uri": "https://localhost:8080/",
          "height": 35
        },
        "id": "UKCho8QAoKIX",
        "outputId": "d596886a-e5c7-4845-a2f0-d9180b5e69b0"
      },
      "execution_count": null,
      "outputs": [
        {
          "output_type": "execute_result",
          "data": {
            "text/plain": [
              "'3.5.0'"
            ],
            "application/vnd.google.colaboratory.intrinsic+json": {
              "type": "string"
            }
          },
          "metadata": {},
          "execution_count": 4
        }
      ]
    },
    {
      "cell_type": "code",
      "source": [
        "# step 3: create spark context\n",
        "from pyspark.sql import SparkSession"
      ],
      "metadata": {
        "id": "Q4pFy67moYbJ"
      },
      "execution_count": null,
      "outputs": []
    },
    {
      "cell_type": "code",
      "source": [
        "spark = SparkSession.builder.getOrCreate()"
      ],
      "metadata": {
        "id": "fZdG7svMpEar"
      },
      "execution_count": null,
      "outputs": []
    },
    {
      "cell_type": "code",
      "source": [
        "# step 4: read data set\n",
        "df = pd.read_csv('https://github.com/YBIFoundation/Dataset/raw/main/Boston.csv')"
      ],
      "metadata": {
        "id": "7K-FKoZwqCkI"
      },
      "execution_count": null,
      "outputs": []
    },
    {
      "cell_type": "code",
      "source": [
        "# convert pandas dataframe as spark dataframe\n",
        "sdf = spark.createDataFrame(df)"
      ],
      "metadata": {
        "id": "LYQy_7UirViR"
      },
      "execution_count": null,
      "outputs": []
    },
    {
      "cell_type": "code",
      "source": [
        "# step 5: explore"
      ],
      "metadata": {
        "id": "oNh_YDSBp0DK"
      },
      "execution_count": null,
      "outputs": []
    },
    {
      "cell_type": "code",
      "source": [
        "sdf.show()"
      ],
      "metadata": {
        "id": "dbgSqKMqy4mk"
      },
      "execution_count": null,
      "outputs": []
    },
    {
      "cell_type": "code",
      "source": [
        "sdf.dtypes"
      ],
      "metadata": {
        "id": "VsQLDBiGy4tP"
      },
      "execution_count": null,
      "outputs": []
    },
    {
      "cell_type": "code",
      "source": [
        "sdf.describe().show()"
      ],
      "metadata": {
        "id": "Cvs-5wPCy41S"
      },
      "execution_count": null,
      "outputs": []
    },
    {
      "cell_type": "code",
      "source": [
        "# step 6: define feature vector (X) and y\n",
        "print(sdf.columns)"
      ],
      "metadata": {
        "colab": {
          "base_uri": "https://localhost:8080/"
        },
        "id": "y7FKf-CKzWeb",
        "outputId": "e2d0dea0-12f9-4ff3-92d7-c6387a212e76"
      },
      "execution_count": null,
      "outputs": [
        {
          "output_type": "stream",
          "name": "stdout",
          "text": [
            "['CRIM', 'ZN', 'INDUS', 'CHAS', 'NX', 'RM', 'AGE', 'DIS', 'RAD', 'TAX', 'PTRATIO', 'B', 'LSTAT', 'MEDV']\n"
          ]
        }
      ]
    },
    {
      "cell_type": "code",
      "source": [
        "from pyspark.ml.feature import VectorAssembler"
      ],
      "metadata": {
        "id": "7k1LrpuGzhLH"
      },
      "execution_count": null,
      "outputs": []
    },
    {
      "cell_type": "code",
      "source": [
        "va = VectorAssembler(inputCols=['CRIM', 'ZN', 'INDUS', 'CHAS', 'NX', 'RM', 'AGE', 'DIS', 'RAD', 'TAX', 'PTRATIO', 'B', 'LSTAT'],\n",
        "                outputCol = 'X')"
      ],
      "metadata": {
        "id": "OFURGvks0av1"
      },
      "execution_count": null,
      "outputs": []
    },
    {
      "cell_type": "code",
      "source": [
        "va.transform(sdf).select('MEDV','X').show()"
      ],
      "metadata": {
        "id": "LXQXDe3f1V3v"
      },
      "execution_count": null,
      "outputs": []
    },
    {
      "cell_type": "code",
      "source": [
        "data = va.transform(sdf).select('MEDV','X')"
      ],
      "metadata": {
        "id": "pUBNdvrO2J7W"
      },
      "execution_count": null,
      "outputs": []
    },
    {
      "cell_type": "code",
      "source": [
        "data.show()"
      ],
      "metadata": {
        "id": "L6BVY6481aOe"
      },
      "execution_count": null,
      "outputs": []
    },
    {
      "cell_type": "code",
      "source": [
        "# step 7: select model\n",
        "from pyspark.ml.regression import LinearRegression"
      ],
      "metadata": {
        "id": "1_WTv8G21ySZ"
      },
      "execution_count": null,
      "outputs": []
    },
    {
      "cell_type": "code",
      "source": [
        "reg = LinearRegression(featuresCol='X', labelCol='MEDV')"
      ],
      "metadata": {
        "id": "PETd9umX2lsi"
      },
      "execution_count": null,
      "outputs": []
    },
    {
      "cell_type": "code",
      "source": [
        "estimator = reg.fit(data)"
      ],
      "metadata": {
        "id": "0SNg5rJv20Tf"
      },
      "execution_count": null,
      "outputs": []
    },
    {
      "cell_type": "code",
      "source": [
        "estimator.coefficients"
      ],
      "metadata": {
        "colab": {
          "base_uri": "https://localhost:8080/"
        },
        "id": "D65FdUy024qj",
        "outputId": "71b0036d-0c33-417a-f811-5af5ce54e59a"
      },
      "execution_count": null,
      "outputs": [
        {
          "output_type": "execute_result",
          "data": {
            "text/plain": [
              "DenseVector([-0.108, 0.0464, 0.0206, 2.6867, -17.7666, 3.8099, 0.0007, -1.4756, 0.306, -0.0123, -0.9527, 0.0093, -0.5248])"
            ]
          },
          "metadata": {},
          "execution_count": 40
        }
      ]
    },
    {
      "cell_type": "code",
      "source": [
        "estimator.intercept"
      ],
      "metadata": {
        "colab": {
          "base_uri": "https://localhost:8080/"
        },
        "id": "9Zl6uMLr3CKp",
        "outputId": "75a71418-e706-4bcf-cb89-17ef4d8a8cd4"
      },
      "execution_count": null,
      "outputs": [
        {
          "output_type": "execute_result",
          "data": {
            "text/plain": [
              "36.45948838507888"
            ]
          },
          "metadata": {},
          "execution_count": 41
        }
      ]
    },
    {
      "cell_type": "code",
      "source": [
        "lr_model.summary"
      ],
      "metadata": {
        "id": "VnY73QG43Ip2"
      },
      "execution_count": null,
      "outputs": []
    },
    {
      "cell_type": "markdown",
      "source": [
        "# **Linear Regression using Pandas in PySpark**"
      ],
      "metadata": {
        "id": "4aRCxr54ERxt"
      }
    },
    {
      "cell_type": "code",
      "source": [
        "# step 1: install pyspark\n",
        "!pip install pyspark"
      ],
      "metadata": {
        "colab": {
          "base_uri": "https://localhost:8080/"
        },
        "id": "7_e1_VP7EXu4",
        "outputId": "bf058af0-3636-455c-a1de-f21ac8103855"
      },
      "execution_count": null,
      "outputs": [
        {
          "output_type": "stream",
          "name": "stdout",
          "text": [
            "Collecting pyspark\n",
            "  Downloading pyspark-3.5.0.tar.gz (316.9 MB)\n",
            "\u001b[2K     \u001b[90m━━━━━━━━━━━━━━━━━━━━━━━━━━━━━━━━━━━━━━━━\u001b[0m \u001b[32m316.9/316.9 MB\u001b[0m \u001b[31m4.0 MB/s\u001b[0m eta \u001b[36m0:00:00\u001b[0m\n",
            "\u001b[?25h  Preparing metadata (setup.py) ... \u001b[?25l\u001b[?25hdone\n",
            "Requirement already satisfied: py4j==0.10.9.7 in /usr/local/lib/python3.10/dist-packages (from pyspark) (0.10.9.7)\n",
            "Building wheels for collected packages: pyspark\n",
            "  Building wheel for pyspark (setup.py) ... \u001b[?25l\u001b[?25hdone\n",
            "  Created wheel for pyspark: filename=pyspark-3.5.0-py2.py3-none-any.whl size=317425345 sha256=cb14faa890fe55bd5ece5c51a4595f7f733d70ca335a566b974d4c283ba6f939\n",
            "  Stored in directory: /root/.cache/pip/wheels/41/4e/10/c2cf2467f71c678cfc8a6b9ac9241e5e44a01940da8fbb17fc\n",
            "Successfully built pyspark\n",
            "Installing collected packages: pyspark\n",
            "Successfully installed pyspark-3.5.0\n"
          ]
        }
      ]
    },
    {
      "cell_type": "code",
      "source": [
        "# step 2: import library and pyspark\n",
        "import pandas as pd\n",
        "import pyspark"
      ],
      "metadata": {
        "id": "pJxqS0jWE2ww"
      },
      "execution_count": null,
      "outputs": []
    },
    {
      "cell_type": "code",
      "source": [
        "# step 3: create spark context (session)\n",
        "from pyspark.sql import SparkSession"
      ],
      "metadata": {
        "id": "wkCaaInMFJMM"
      },
      "execution_count": null,
      "outputs": []
    },
    {
      "cell_type": "code",
      "source": [
        "spark = SparkSession.builder.getOrCreate()"
      ],
      "metadata": {
        "id": "8F5bs1j1FV4L"
      },
      "execution_count": null,
      "outputs": []
    },
    {
      "cell_type": "code",
      "source": [
        "sdf = spark.read.csv('/content/EcommerceCustomer.csv',header=True,inferSchema=True)"
      ],
      "metadata": {
        "id": "q2FH9BztFhof"
      },
      "execution_count": null,
      "outputs": []
    },
    {
      "cell_type": "code",
      "source": [
        "sdf.show()"
      ],
      "metadata": {
        "colab": {
          "base_uri": "https://localhost:8080/"
        },
        "id": "JUbYA5_6FkTa",
        "outputId": "c42f5625-c6c6-4deb-8edc-6465dded6bbf"
      },
      "execution_count": null,
      "outputs": [
        {
          "output_type": "stream",
          "name": "stdout",
          "text": [
            "+---------+----------------+---------+-------------+------------------+-----------------+\n",
            "|CustomeID|AvgSessionLength|TimeOnApp|TimeOnWebsite|LengthOfMembership|YearlyAmountSpent|\n",
            "+---------+----------------+---------+-------------+------------------+-----------------+\n",
            "|        1|            34.5|    12.66|        39.58|              4.08|           587.95|\n",
            "|        2|           31.93|    11.11|        37.27|              2.66|            392.2|\n",
            "|        3|            33.0|    11.33|        37.11|               4.1|           487.55|\n",
            "|        4|           34.31|    13.72|        36.72|              3.12|           581.85|\n",
            "|        5|           33.33|     12.8|        37.54|              4.45|           599.41|\n",
            "|        6|           33.87|    12.03|        34.48|              5.49|            637.1|\n",
            "|        7|           32.02|    11.37|        36.68|              4.69|           521.57|\n",
            "|        8|           32.74|    12.35|        37.37|              4.43|            549.9|\n",
            "|        9|           33.99|    13.39|        37.53|              3.27|            570.2|\n",
            "|       10|           31.94|    11.81|        37.15|               3.2|            427.2|\n",
            "|       11|           33.99|    13.34|        37.23|              2.48|           492.61|\n",
            "|       12|           33.88|    11.58|        37.09|              3.71|           522.34|\n",
            "|       13|           29.53|    10.96|        37.42|              4.05|           408.64|\n",
            "|       14|           33.19|    12.96|        36.14|              3.92|           573.42|\n",
            "|       15|           32.39|    13.15|        36.62|              2.49|           470.45|\n",
            "|       16|           30.74|    12.64|        36.21|              3.36|           461.78|\n",
            "|       17|           32.13|    11.73|        34.89|              3.14|           457.85|\n",
            "|       18|           32.34|    12.01|        38.39|              2.42|            407.7|\n",
            "|       19|           32.19|    14.72|        38.24|              1.52|           452.32|\n",
            "|       20|           32.62|    13.99|        37.19|              4.06|           605.06|\n",
            "+---------+----------------+---------+-------------+------------------+-----------------+\n",
            "only showing top 20 rows\n",
            "\n"
          ]
        }
      ]
    },
    {
      "cell_type": "code",
      "source": [
        "sdf.dtypes"
      ],
      "metadata": {
        "colab": {
          "base_uri": "https://localhost:8080/"
        },
        "id": "tgIiAG3tFkYz",
        "outputId": "dcc7c983-6cef-422c-9dc3-22fde3aea0c4"
      },
      "execution_count": null,
      "outputs": [
        {
          "output_type": "execute_result",
          "data": {
            "text/plain": [
              "[('CustomeID', 'int'),\n",
              " ('AvgSessionLength', 'double'),\n",
              " ('TimeOnApp', 'double'),\n",
              " ('TimeOnWebsite', 'double'),\n",
              " ('LengthOfMembership', 'double'),\n",
              " ('YearlyAmountSpent', 'double')]"
            ]
          },
          "metadata": {},
          "execution_count": 12
        }
      ]
    },
    {
      "cell_type": "code",
      "source": [
        "import pyspark.pandas as ppd"
      ],
      "metadata": {
        "colab": {
          "base_uri": "https://localhost:8080/"
        },
        "id": "fphRmeebFkct",
        "outputId": "20053288-6ad7-4123-b7d4-8be5d7e48a53"
      },
      "execution_count": null,
      "outputs": [
        {
          "output_type": "stream",
          "name": "stderr",
          "text": [
            "/usr/local/lib/python3.10/dist-packages/pyspark/pandas/__init__.py:50: UserWarning: 'PYARROW_IGNORE_TIMEZONE' environment variable was not set. It is required to set this environment variable to '1' in both driver and executor sides if you use pyarrow>=2.0.0. pandas-on-Spark will set it for you but it does not work if there is a Spark context already launched.\n",
            "  warnings.warn(\n"
          ]
        }
      ]
    },
    {
      "cell_type": "code",
      "source": [
        "psdf = sdf.pandas_api()"
      ],
      "metadata": {
        "id": "vVo5nTR6Fkkz"
      },
      "execution_count": null,
      "outputs": []
    },
    {
      "cell_type": "code",
      "source": [
        "psdf.head()"
      ],
      "metadata": {
        "colab": {
          "base_uri": "https://localhost:8080/",
          "height": 206
        },
        "id": "LHA7PdeXHUj-",
        "outputId": "b5d78095-7462-4786-ff01-e4fabbe69308"
      },
      "execution_count": null,
      "outputs": [
        {
          "output_type": "execute_result",
          "data": {
            "text/plain": [
              "   CustomeID  AvgSessionLength  TimeOnApp  TimeOnWebsite  LengthOfMembership  YearlyAmountSpent\n",
              "0          1             34.50      12.66          39.58                4.08             587.95\n",
              "1          2             31.93      11.11          37.27                2.66             392.20\n",
              "2          3             33.00      11.33          37.11                4.10             487.55\n",
              "3          4             34.31      13.72          36.72                3.12             581.85\n",
              "4          5             33.33      12.80          37.54                4.45             599.41"
            ],
            "text/html": [
              "<div>\n",
              "<style scoped>\n",
              "    .dataframe tbody tr th:only-of-type {\n",
              "        vertical-align: middle;\n",
              "    }\n",
              "\n",
              "    .dataframe tbody tr th {\n",
              "        vertical-align: top;\n",
              "    }\n",
              "\n",
              "    .dataframe thead th {\n",
              "        text-align: right;\n",
              "    }\n",
              "</style>\n",
              "<table border=\"1\" class=\"dataframe\">\n",
              "  <thead>\n",
              "    <tr style=\"text-align: right;\">\n",
              "      <th></th>\n",
              "      <th>CustomeID</th>\n",
              "      <th>AvgSessionLength</th>\n",
              "      <th>TimeOnApp</th>\n",
              "      <th>TimeOnWebsite</th>\n",
              "      <th>LengthOfMembership</th>\n",
              "      <th>YearlyAmountSpent</th>\n",
              "    </tr>\n",
              "  </thead>\n",
              "  <tbody>\n",
              "    <tr>\n",
              "      <th>0</th>\n",
              "      <td>1</td>\n",
              "      <td>34.50</td>\n",
              "      <td>12.66</td>\n",
              "      <td>39.58</td>\n",
              "      <td>4.08</td>\n",
              "      <td>587.95</td>\n",
              "    </tr>\n",
              "    <tr>\n",
              "      <th>1</th>\n",
              "      <td>2</td>\n",
              "      <td>31.93</td>\n",
              "      <td>11.11</td>\n",
              "      <td>37.27</td>\n",
              "      <td>2.66</td>\n",
              "      <td>392.20</td>\n",
              "    </tr>\n",
              "    <tr>\n",
              "      <th>2</th>\n",
              "      <td>3</td>\n",
              "      <td>33.00</td>\n",
              "      <td>11.33</td>\n",
              "      <td>37.11</td>\n",
              "      <td>4.10</td>\n",
              "      <td>487.55</td>\n",
              "    </tr>\n",
              "    <tr>\n",
              "      <th>3</th>\n",
              "      <td>4</td>\n",
              "      <td>34.31</td>\n",
              "      <td>13.72</td>\n",
              "      <td>36.72</td>\n",
              "      <td>3.12</td>\n",
              "      <td>581.85</td>\n",
              "    </tr>\n",
              "    <tr>\n",
              "      <th>4</th>\n",
              "      <td>5</td>\n",
              "      <td>33.33</td>\n",
              "      <td>12.80</td>\n",
              "      <td>37.54</td>\n",
              "      <td>4.45</td>\n",
              "      <td>599.41</td>\n",
              "    </tr>\n",
              "  </tbody>\n",
              "</table>\n",
              "</div>"
            ]
          },
          "metadata": {},
          "execution_count": 19
        }
      ]
    },
    {
      "cell_type": "code",
      "source": [
        "psdf.info()"
      ],
      "metadata": {
        "colab": {
          "base_uri": "https://localhost:8080/"
        },
        "id": "QBUedrcpHnJY",
        "outputId": "348bb7e9-6371-47ee-84cd-d289e7c3cae8"
      },
      "execution_count": null,
      "outputs": [
        {
          "output_type": "stream",
          "name": "stdout",
          "text": [
            "<class 'pyspark.pandas.frame.DataFrame'>\n",
            "Int64Index: 500 entries, 0 to 499\n",
            "Data columns (total 6 columns):\n",
            " #   Column              Non-Null Count  Dtype  \n",
            "---  ------              --------------  -----  \n",
            " 0   CustomeID           500 non-null    int32  \n",
            " 1   AvgSessionLength    500 non-null    float64\n",
            " 2   TimeOnApp           500 non-null    float64\n",
            " 3   TimeOnWebsite       500 non-null    float64\n",
            " 4   LengthOfMembership  500 non-null    float64\n",
            " 5   YearlyAmountSpent   500 non-null    float64\n",
            "dtypes: float64(5), int32(1)"
          ]
        }
      ]
    },
    {
      "cell_type": "code",
      "source": [
        "sdf = psdf.to_spark(index_col = 'index')"
      ],
      "metadata": {
        "id": "L3Tbvy0pHz8s"
      },
      "execution_count": null,
      "outputs": []
    },
    {
      "cell_type": "code",
      "source": [
        "sdf.show()"
      ],
      "metadata": {
        "colab": {
          "base_uri": "https://localhost:8080/"
        },
        "id": "yWpswrLFIxFg",
        "outputId": "d5ea98a2-a85f-4f6e-eeb1-51aa4b7eae53"
      },
      "execution_count": null,
      "outputs": [
        {
          "output_type": "stream",
          "name": "stdout",
          "text": [
            "+-----+---------+----------------+---------+-------------+------------------+-----------------+\n",
            "|index|CustomeID|AvgSessionLength|TimeOnApp|TimeOnWebsite|LengthOfMembership|YearlyAmountSpent|\n",
            "+-----+---------+----------------+---------+-------------+------------------+-----------------+\n",
            "|    0|        1|            34.5|    12.66|        39.58|              4.08|           587.95|\n",
            "|    1|        2|           31.93|    11.11|        37.27|              2.66|            392.2|\n",
            "|    2|        3|            33.0|    11.33|        37.11|               4.1|           487.55|\n",
            "|    3|        4|           34.31|    13.72|        36.72|              3.12|           581.85|\n",
            "|    4|        5|           33.33|     12.8|        37.54|              4.45|           599.41|\n",
            "|    5|        6|           33.87|    12.03|        34.48|              5.49|            637.1|\n",
            "|    6|        7|           32.02|    11.37|        36.68|              4.69|           521.57|\n",
            "|    7|        8|           32.74|    12.35|        37.37|              4.43|            549.9|\n",
            "|    8|        9|           33.99|    13.39|        37.53|              3.27|            570.2|\n",
            "|    9|       10|           31.94|    11.81|        37.15|               3.2|            427.2|\n",
            "|   10|       11|           33.99|    13.34|        37.23|              2.48|           492.61|\n",
            "|   11|       12|           33.88|    11.58|        37.09|              3.71|           522.34|\n",
            "|   12|       13|           29.53|    10.96|        37.42|              4.05|           408.64|\n",
            "|   13|       14|           33.19|    12.96|        36.14|              3.92|           573.42|\n",
            "|   14|       15|           32.39|    13.15|        36.62|              2.49|           470.45|\n",
            "|   15|       16|           30.74|    12.64|        36.21|              3.36|           461.78|\n",
            "|   16|       17|           32.13|    11.73|        34.89|              3.14|           457.85|\n",
            "|   17|       18|           32.34|    12.01|        38.39|              2.42|            407.7|\n",
            "|   18|       19|           32.19|    14.72|        38.24|              1.52|           452.32|\n",
            "|   19|       20|           32.62|    13.99|        37.19|              4.06|           605.06|\n",
            "+-----+---------+----------------+---------+-------------+------------------+-----------------+\n",
            "only showing top 20 rows\n",
            "\n"
          ]
        }
      ]
    },
    {
      "cell_type": "code",
      "source": [
        "from pyspark.ml.feature import VectorAssembler"
      ],
      "metadata": {
        "id": "U8XBjAX0JWtp"
      },
      "execution_count": null,
      "outputs": []
    },
    {
      "cell_type": "code",
      "source": [
        "print(sdf.columns)"
      ],
      "metadata": {
        "colab": {
          "base_uri": "https://localhost:8080/"
        },
        "id": "Df2jPKrkKOgL",
        "outputId": "096dfbe1-5230-4c5a-9c3d-47e05648773d"
      },
      "execution_count": null,
      "outputs": [
        {
          "output_type": "stream",
          "name": "stdout",
          "text": [
            "['index', 'CustomeID', 'AvgSessionLength', 'TimeOnApp', 'TimeOnWebsite', 'LengthOfMembership', 'YearlyAmountSpent']\n"
          ]
        }
      ]
    },
    {
      "cell_type": "code",
      "source": [
        "vc = VectorAssembler(inputCols=['AvgSessionLength',\n",
        " 'TimeOnApp',\n",
        " 'TimeOnWebsite',\n",
        " 'LengthOfMembership'], outputCol='X')"
      ],
      "metadata": {
        "id": "rirqegbiKECd"
      },
      "execution_count": null,
      "outputs": []
    },
    {
      "cell_type": "code",
      "source": [
        "data = vc.transform(sdf)"
      ],
      "metadata": {
        "id": "jHlED8QtKH-1"
      },
      "execution_count": null,
      "outputs": []
    },
    {
      "cell_type": "code",
      "source": [
        "# split\n",
        "train, test = data.randomSplit([0.7,0.3],seed = 2529)"
      ],
      "metadata": {
        "id": "Rdw1LvuFKpEf"
      },
      "execution_count": null,
      "outputs": []
    },
    {
      "cell_type": "code",
      "source": [
        "train.show()"
      ],
      "metadata": {
        "colab": {
          "base_uri": "https://localhost:8080/"
        },
        "id": "0HoZcNrILlsO",
        "outputId": "2739a614-dfda-44d6-ccb4-58665cdb67a1"
      },
      "execution_count": null,
      "outputs": [
        {
          "output_type": "stream",
          "name": "stdout",
          "text": [
            "+-----+---------+----------------+---------+-------------+------------------+-----------------+--------------------+\n",
            "|index|CustomeID|AvgSessionLength|TimeOnApp|TimeOnWebsite|LengthOfMembership|YearlyAmountSpent|                   X|\n",
            "+-----+---------+----------------+---------+-------------+------------------+-----------------+--------------------+\n",
            "|    0|        1|            34.5|    12.66|        39.58|              4.08|           587.95|[34.5,12.66,39.58...|\n",
            "|    1|        2|           31.93|    11.11|        37.27|              2.66|            392.2|[31.93,11.11,37.2...|\n",
            "|    3|        4|           34.31|    13.72|        36.72|              3.12|           581.85|[34.31,13.72,36.7...|\n",
            "|    4|        5|           33.33|     12.8|        37.54|              4.45|           599.41|[33.33,12.8,37.54...|\n",
            "|    6|        7|           32.02|    11.37|        36.68|              4.69|           521.57|[32.02,11.37,36.6...|\n",
            "|    7|        8|           32.74|    12.35|        37.37|              4.43|            549.9|[32.74,12.35,37.3...|\n",
            "|   10|       11|           33.99|    13.34|        37.23|              2.48|           492.61|[33.99,13.34,37.2...|\n",
            "|   11|       12|           33.88|    11.58|        37.09|              3.71|           522.34|[33.88,11.58,37.0...|\n",
            "|   12|       13|           29.53|    10.96|        37.42|              4.05|           408.64|[29.53,10.96,37.4...|\n",
            "|   14|       15|           32.39|    13.15|        36.62|              2.49|           470.45|[32.39,13.15,36.6...|\n",
            "|   16|       17|           32.13|    11.73|        34.89|              3.14|           457.85|[32.13,11.73,34.8...|\n",
            "|   17|       18|           32.34|    12.01|        38.39|              2.42|            407.7|[32.34,12.01,38.3...|\n",
            "|   20|       21|           32.91|    11.37|        37.61|               4.6|           534.71|[32.91,11.37,37.6...|\n",
            "|   21|       22|            33.5|    12.88|        37.44|              1.56|           419.94|[33.5,12.88,37.44...|\n",
            "|   23|       24|            32.9|    11.66|        36.77|              3.92|           519.34|[32.9,11.66,36.77...|\n",
            "|   24|       25|           34.51|    12.89|        37.64|              5.71|           700.92|[34.51,12.89,37.6...|\n",
            "|   28|       29|           33.11|    11.98|        35.29|              3.92|           529.54|[33.11,11.98,35.2...|\n",
            "|   29|       30|           33.11|    11.97|        37.28|              4.74|           554.72|[33.11,11.97,37.2...|\n",
            "|   30|       31|           33.24|    12.31|        36.16|              3.06|           497.59|[33.24,12.31,36.1...|\n",
            "|   31|       32|           33.46|    10.87|        35.62|              3.47|           447.69|[33.46,10.87,35.6...|\n",
            "+-----+---------+----------------+---------+-------------+------------------+-----------------+--------------------+\n",
            "only showing top 20 rows\n",
            "\n"
          ]
        }
      ]
    },
    {
      "cell_type": "code",
      "source": [
        "# select model\n",
        "from pyspark.ml.regression import LinearRegression"
      ],
      "metadata": {
        "id": "IV_13e01LHPC"
      },
      "execution_count": null,
      "outputs": []
    },
    {
      "cell_type": "code",
      "source": [
        "lr = LinearRegression(featuresCol='X', labelCol='YearlyAmountSpent')"
      ],
      "metadata": {
        "id": "whusXWNbLIT7"
      },
      "execution_count": null,
      "outputs": []
    },
    {
      "cell_type": "code",
      "source": [
        "result = lr.fit(train)"
      ],
      "metadata": {
        "id": "K_01rpVTLU-u"
      },
      "execution_count": null,
      "outputs": []
    },
    {
      "cell_type": "code",
      "source": [
        "result.coefficients, result.intercept"
      ],
      "metadata": {
        "colab": {
          "base_uri": "https://localhost:8080/"
        },
        "id": "JDnYl-SFLv-v",
        "outputId": "b9204617-cacd-43ec-aac5-ab7ec35c8117"
      },
      "execution_count": null,
      "outputs": [
        {
          "output_type": "execute_result",
          "data": {
            "text/plain": [
              "(DenseVector([25.4728, 38.2689, 0.3987, 61.191]), -1034.9099742608726)"
            ]
          },
          "metadata": {},
          "execution_count": 46
        }
      ]
    },
    {
      "cell_type": "code",
      "source": [
        "result.summary.rootMeanSquaredError"
      ],
      "metadata": {
        "colab": {
          "base_uri": "https://localhost:8080/"
        },
        "id": "lQY0QFOHL7DF",
        "outputId": "36d8c8e9-c339-4fd4-8327-501057791eac"
      },
      "execution_count": null,
      "outputs": [
        {
          "output_type": "execute_result",
          "data": {
            "text/plain": [
              "9.718752822009698"
            ]
          },
          "metadata": {},
          "execution_count": 48
        }
      ]
    },
    {
      "cell_type": "markdown",
      "source": [
        "# **Missing Value**"
      ],
      "metadata": {
        "id": "uHbaBcCxfZbx"
      }
    },
    {
      "cell_type": "code",
      "source": [
        "!pip install pyspark"
      ],
      "metadata": {
        "colab": {
          "base_uri": "https://localhost:8080/"
        },
        "id": "cENtxWoMfgNY",
        "outputId": "f9bab8a1-7754-4929-c3b7-7828ab43f91b"
      },
      "execution_count": null,
      "outputs": [
        {
          "output_type": "stream",
          "name": "stdout",
          "text": [
            "Collecting pyspark\n",
            "  Downloading pyspark-3.5.0.tar.gz (316.9 MB)\n",
            "\u001b[2K     \u001b[90m━━━━━━━━━━━━━━━━━━━━━━━━━━━━━━━━━━━━━━━━\u001b[0m \u001b[32m316.9/316.9 MB\u001b[0m \u001b[31m4.6 MB/s\u001b[0m eta \u001b[36m0:00:00\u001b[0m\n",
            "\u001b[?25h  Preparing metadata (setup.py) ... \u001b[?25l\u001b[?25hdone\n",
            "Requirement already satisfied: py4j==0.10.9.7 in /usr/local/lib/python3.10/dist-packages (from pyspark) (0.10.9.7)\n",
            "Building wheels for collected packages: pyspark\n",
            "  Building wheel for pyspark (setup.py) ... \u001b[?25l\u001b[?25hdone\n",
            "  Created wheel for pyspark: filename=pyspark-3.5.0-py2.py3-none-any.whl size=317425345 sha256=5234ed22f5440950397a2081652bc02988baba4647098fb5a62666b7b486c036\n",
            "  Stored in directory: /root/.cache/pip/wheels/41/4e/10/c2cf2467f71c678cfc8a6b9ac9241e5e44a01940da8fbb17fc\n",
            "Successfully built pyspark\n",
            "Installing collected packages: pyspark\n",
            "Successfully installed pyspark-3.5.0\n"
          ]
        }
      ]
    },
    {
      "cell_type": "code",
      "source": [
        "import pyspark"
      ],
      "metadata": {
        "id": "n2FixjCCfkVT"
      },
      "execution_count": null,
      "outputs": []
    },
    {
      "cell_type": "code",
      "source": [
        "from pyspark.sql import SparkSession"
      ],
      "metadata": {
        "id": "dPo1ckJdfl9Y"
      },
      "execution_count": null,
      "outputs": []
    },
    {
      "cell_type": "code",
      "source": [
        "spark = SparkSession.builder.getOrCreate()"
      ],
      "metadata": {
        "id": "dG7O9atifrkp"
      },
      "execution_count": null,
      "outputs": []
    },
    {
      "cell_type": "code",
      "source": [
        "sdf = spark.read.csv('/content/Titanic.csv',header=True,inferSchema=True)"
      ],
      "metadata": {
        "id": "5EwLPoXogRLo"
      },
      "execution_count": null,
      "outputs": []
    },
    {
      "cell_type": "code",
      "source": [
        "sdf.show()"
      ],
      "metadata": {
        "colab": {
          "base_uri": "https://localhost:8080/"
        },
        "id": "x9WwKyfbglAa",
        "outputId": "fe300caa-986e-4bf4-c86f-4265b1b3cd83"
      },
      "execution_count": null,
      "outputs": [
        {
          "output_type": "stream",
          "name": "stdout",
          "text": [
            "+------+--------+--------------------+------+----+-----+-----+--------+--------+-------+--------+----+----+--------------------+\n",
            "|pclass|survived|                name|   sex| age|sibsp|parch|  ticket|    fare|  cabin|embarked|boat|body|           home.dest|\n",
            "+------+--------+--------------------+------+----+-----+-----+--------+--------+-------+--------+----+----+--------------------+\n",
            "|     1|       1|Allen, Miss. Elis...|female|29.0|    0|    0|   24160|211.3375|     B5|       S|   2|NULL|        St Louis, MO|\n",
            "|     1|       1|Allison, Master. ...|  male|0.92|    1|    2|  113781|  151.55|C22 C26|       S|  11|NULL|Montreal, PQ / Ch...|\n",
            "|     1|       0|Allison, Miss. He...|female| 2.0|    1|    2|  113781|  151.55|C22 C26|       S|NULL|NULL|Montreal, PQ / Ch...|\n",
            "|     1|       0|Allison, Mr. Huds...|  male|30.0|    1|    2|  113781|  151.55|C22 C26|       S|NULL| 135|Montreal, PQ / Ch...|\n",
            "|     1|       0|Allison, Mrs. Hud...|female|25.0|    1|    2|  113781|  151.55|C22 C26|       S|NULL|NULL|Montreal, PQ / Ch...|\n",
            "|     1|       1| Anderson, Mr. Harry|  male|48.0|    0|    0|   19952|   26.55|    E12|       S|   3|NULL|        New York, NY|\n",
            "|     1|       1|Andrews, Miss. Ko...|female|63.0|    1|    0|   13502| 77.9583|     D7|       S|  10|NULL|          Hudson, NY|\n",
            "|     1|       0|Andrews, Mr. Thom...|  male|39.0|    0|    0|  112050|     0.0|    A36|       S|NULL|NULL|         Belfast, NI|\n",
            "|     1|       1|Appleton, Mrs. Ed...|female|53.0|    2|    0|   11769| 51.4792|   C101|       S|   D|NULL| Bayside, Queens, NY|\n",
            "|     1|       0|Artagaveytia, Mr....|  male|71.0|    0|    0|PC 17609| 49.5042|   NULL|       C|NULL|  22| Montevideo, Uruguay|\n",
            "|     1|       0|Astor, Col. John ...|  male|47.0|    1|    0|PC 17757| 227.525|C62 C64|       C|NULL| 124|        New York, NY|\n",
            "|     1|       1|Astor, Mrs. John ...|female|18.0|    1|    0|PC 17757| 227.525|C62 C64|       C|   4|NULL|        New York, NY|\n",
            "|     1|       1|Aubart, Mme. Leon...|female|24.0|    0|    0|PC 17477|    69.3|    B35|       C|   9|NULL|       Paris, France|\n",
            "|     1|       1|\"Barber, Miss. El...|female|26.0|    0|    0|   19877|   78.85|   NULL|       S|   6|NULL|                NULL|\n",
            "|     1|       1|Barkworth, Mr. Al...|  male|80.0|    0|    0|   27042|    30.0|    A23|       S|   B|NULL|       Hessle, Yorks|\n",
            "|     1|       0| Baumann, Mr. John D|  male|NULL|    0|    0|PC 17318|  25.925|   NULL|       S|NULL|NULL|        New York, NY|\n",
            "|     1|       0|Baxter, Mr. Quigg...|  male|24.0|    0|    1|PC 17558|247.5208|B58 B60|       C|NULL|NULL|        Montreal, PQ|\n",
            "|     1|       1|Baxter, Mrs. Jame...|female|50.0|    0|    1|PC 17558|247.5208|B58 B60|       C|   6|NULL|        Montreal, PQ|\n",
            "|     1|       1|Bazzani, Miss. Al...|female|32.0|    0|    0|   11813| 76.2917|    D15|       C|   8|NULL|                NULL|\n",
            "|     1|       0|Beattie, Mr. Thomson|  male|36.0|    0|    0|   13050| 75.2417|     C6|       C|   A|NULL|        Winnipeg, MN|\n",
            "+------+--------+--------------------+------+----+-----+-----+--------+--------+-------+--------+----+----+--------------------+\n",
            "only showing top 20 rows\n",
            "\n"
          ]
        }
      ]
    },
    {
      "cell_type": "code",
      "source": [
        "sdf.printSchema()"
      ],
      "metadata": {
        "colab": {
          "base_uri": "https://localhost:8080/"
        },
        "id": "5tXRspX_goMR",
        "outputId": "dc759ead-a25d-4189-b546-b41c0044dee8"
      },
      "execution_count": null,
      "outputs": [
        {
          "output_type": "stream",
          "name": "stdout",
          "text": [
            "root\n",
            " |-- pclass: integer (nullable = true)\n",
            " |-- survived: integer (nullable = true)\n",
            " |-- name: string (nullable = true)\n",
            " |-- sex: string (nullable = true)\n",
            " |-- age: double (nullable = true)\n",
            " |-- sibsp: integer (nullable = true)\n",
            " |-- parch: integer (nullable = true)\n",
            " |-- ticket: string (nullable = true)\n",
            " |-- fare: double (nullable = true)\n",
            " |-- cabin: string (nullable = true)\n",
            " |-- embarked: string (nullable = true)\n",
            " |-- boat: string (nullable = true)\n",
            " |-- body: integer (nullable = true)\n",
            " |-- home.dest: string (nullable = true)\n",
            "\n"
          ]
        }
      ]
    },
    {
      "cell_type": "code",
      "source": [
        "sdf.dtypes"
      ],
      "metadata": {
        "colab": {
          "base_uri": "https://localhost:8080/"
        },
        "id": "BzgE7JR7grvg",
        "outputId": "1ba1f877-a7ed-4691-93b9-f67d91f1f148"
      },
      "execution_count": null,
      "outputs": [
        {
          "output_type": "execute_result",
          "data": {
            "text/plain": [
              "[('pclass', 'int'),\n",
              " ('survived', 'int'),\n",
              " ('name', 'string'),\n",
              " ('sex', 'string'),\n",
              " ('age', 'double'),\n",
              " ('sibsp', 'int'),\n",
              " ('parch', 'int'),\n",
              " ('ticket', 'string'),\n",
              " ('fare', 'double'),\n",
              " ('cabin', 'string'),\n",
              " ('embarked', 'string'),\n",
              " ('boat', 'string'),\n",
              " ('body', 'int'),\n",
              " ('home.dest', 'string')]"
            ]
          },
          "metadata": {},
          "execution_count": 12
        }
      ]
    },
    {
      "cell_type": "code",
      "source": [
        "# use pandas api in pyspark\n",
        "import pandas as pd\n",
        "import pyspark.pandas as ppd"
      ],
      "metadata": {
        "colab": {
          "base_uri": "https://localhost:8080/"
        },
        "id": "RWq5rSePgu9M",
        "outputId": "c4c12aaa-5649-477d-dcd8-0fdb03d59da4"
      },
      "execution_count": null,
      "outputs": [
        {
          "output_type": "stream",
          "name": "stderr",
          "text": [
            "/usr/local/lib/python3.10/dist-packages/pyspark/pandas/__init__.py:50: UserWarning: 'PYARROW_IGNORE_TIMEZONE' environment variable was not set. It is required to set this environment variable to '1' in both driver and executor sides if you use pyarrow>=2.0.0. pandas-on-Spark will set it for you but it does not work if there is a Spark context already launched.\n",
            "  warnings.warn(\n"
          ]
        }
      ]
    },
    {
      "cell_type": "code",
      "source": [
        "sdf.head(2)"
      ],
      "metadata": {
        "colab": {
          "base_uri": "https://localhost:8080/"
        },
        "id": "kXW_7Jzshja0",
        "outputId": "9b067ab3-048a-4884-af51-df9df1b96827"
      },
      "execution_count": null,
      "outputs": [
        {
          "output_type": "execute_result",
          "data": {
            "text/plain": [
              "[Row(pclass=1, survived=1, name='Allen, Miss. Elisabeth Walton', sex='female', age=29.0, sibsp=0, parch=0, ticket='24160', fare=211.3375, cabin='B5', embarked='S', boat='2', body=None, home.dest='St Louis, MO'),\n",
              " Row(pclass=1, survived=1, name='Allison, Master. Hudson Trevor', sex='male', age=0.92, sibsp=1, parch=2, ticket='113781', fare=151.55, cabin='C22 C26', embarked='S', boat='11', body=None, home.dest='Montreal, PQ / Chesterville, ON')]"
            ]
          },
          "metadata": {},
          "execution_count": 15
        }
      ]
    },
    {
      "cell_type": "code",
      "source": [
        "sdf.info()"
      ],
      "metadata": {
        "colab": {
          "base_uri": "https://localhost:8080/",
          "height": 263
        },
        "id": "AFwWemkYhrp_",
        "outputId": "a99f3395-bd74-40c7-9ff5-f1ed809a4ec6"
      },
      "execution_count": null,
      "outputs": [
        {
          "output_type": "error",
          "ename": "AttributeError",
          "evalue": "'DataFrame' object has no attribute 'info'",
          "traceback": [
            "\u001b[0;31m---------------------------------------------------------------------------\u001b[0m",
            "\u001b[0;31mAttributeError\u001b[0m                            Traceback (most recent call last)",
            "\u001b[0;32m<ipython-input-17-f50bb412ba3b>\u001b[0m in \u001b[0;36m<cell line: 1>\u001b[0;34m()\u001b[0m\n\u001b[0;32m----> 1\u001b[0;31m \u001b[0msdf\u001b[0m\u001b[0;34m.\u001b[0m\u001b[0minfo\u001b[0m\u001b[0;34m(\u001b[0m\u001b[0;34m)\u001b[0m\u001b[0;34m\u001b[0m\u001b[0;34m\u001b[0m\u001b[0m\n\u001b[0m",
            "\u001b[0;32m/usr/local/lib/python3.10/dist-packages/pyspark/sql/dataframe.py\u001b[0m in \u001b[0;36m__getattr__\u001b[0;34m(self, name)\u001b[0m\n\u001b[1;32m   3121\u001b[0m         \"\"\"\n\u001b[1;32m   3122\u001b[0m         \u001b[0;32mif\u001b[0m \u001b[0mname\u001b[0m \u001b[0;32mnot\u001b[0m \u001b[0;32min\u001b[0m \u001b[0mself\u001b[0m\u001b[0;34m.\u001b[0m\u001b[0mcolumns\u001b[0m\u001b[0;34m:\u001b[0m\u001b[0;34m\u001b[0m\u001b[0;34m\u001b[0m\u001b[0m\n\u001b[0;32m-> 3123\u001b[0;31m             raise AttributeError(\n\u001b[0m\u001b[1;32m   3124\u001b[0m                 \u001b[0;34m\"'%s' object has no attribute '%s'\"\u001b[0m \u001b[0;34m%\u001b[0m \u001b[0;34m(\u001b[0m\u001b[0mself\u001b[0m\u001b[0;34m.\u001b[0m\u001b[0m__class__\u001b[0m\u001b[0;34m.\u001b[0m\u001b[0m__name__\u001b[0m\u001b[0;34m,\u001b[0m \u001b[0mname\u001b[0m\u001b[0;34m)\u001b[0m\u001b[0;34m\u001b[0m\u001b[0;34m\u001b[0m\u001b[0m\n\u001b[1;32m   3125\u001b[0m             )\n",
            "\u001b[0;31mAttributeError\u001b[0m: 'DataFrame' object has no attribute 'info'"
          ]
        }
      ]
    },
    {
      "cell_type": "code",
      "source": [
        "psdf = sdf.pandas_api()"
      ],
      "metadata": {
        "id": "xiBQAsZbhYFZ"
      },
      "execution_count": null,
      "outputs": []
    },
    {
      "cell_type": "code",
      "source": [
        "psdf.head(2)"
      ],
      "metadata": {
        "id": "w8XwJqRAhh6O"
      },
      "execution_count": null,
      "outputs": []
    },
    {
      "cell_type": "code",
      "source": [
        "psdf.info()"
      ],
      "metadata": {
        "id": "RIuRwwxMhnEM"
      },
      "execution_count": null,
      "outputs": []
    },
    {
      "cell_type": "code",
      "source": [
        "psdf.isna().sum()"
      ],
      "metadata": {
        "id": "xRuUE7AMhwTy"
      },
      "execution_count": null,
      "outputs": []
    },
    {
      "cell_type": "code",
      "source": [
        "sdf = psdf.to_spark(index_col='index')"
      ],
      "metadata": {
        "id": "LCcK3VCwh7wF"
      },
      "execution_count": null,
      "outputs": []
    },
    {
      "cell_type": "code",
      "source": [
        "sdf.show()"
      ],
      "metadata": {
        "colab": {
          "base_uri": "https://localhost:8080/"
        },
        "id": "eoL8xQq6iVIn",
        "outputId": "a5683be9-4ece-4b4e-91ef-c7db6cab7478"
      },
      "execution_count": null,
      "outputs": [
        {
          "output_type": "stream",
          "name": "stdout",
          "text": [
            "+-----+------+--------+--------------------+------+----+-----+-----+--------+--------+-------+--------+----+----+--------------------+\n",
            "|index|pclass|survived|                name|   sex| age|sibsp|parch|  ticket|    fare|  cabin|embarked|boat|body|           home.dest|\n",
            "+-----+------+--------+--------------------+------+----+-----+-----+--------+--------+-------+--------+----+----+--------------------+\n",
            "|    0|     1|       1|Allen, Miss. Elis...|female|29.0|    0|    0|   24160|211.3375|     B5|       S|   2|NULL|        St Louis, MO|\n",
            "|    1|     1|       1|Allison, Master. ...|  male|0.92|    1|    2|  113781|  151.55|C22 C26|       S|  11|NULL|Montreal, PQ / Ch...|\n",
            "|    2|     1|       0|Allison, Miss. He...|female| 2.0|    1|    2|  113781|  151.55|C22 C26|       S|NULL|NULL|Montreal, PQ / Ch...|\n",
            "|    3|     1|       0|Allison, Mr. Huds...|  male|30.0|    1|    2|  113781|  151.55|C22 C26|       S|NULL| 135|Montreal, PQ / Ch...|\n",
            "|    4|     1|       0|Allison, Mrs. Hud...|female|25.0|    1|    2|  113781|  151.55|C22 C26|       S|NULL|NULL|Montreal, PQ / Ch...|\n",
            "|    5|     1|       1| Anderson, Mr. Harry|  male|48.0|    0|    0|   19952|   26.55|    E12|       S|   3|NULL|        New York, NY|\n",
            "|    6|     1|       1|Andrews, Miss. Ko...|female|63.0|    1|    0|   13502| 77.9583|     D7|       S|  10|NULL|          Hudson, NY|\n",
            "|    7|     1|       0|Andrews, Mr. Thom...|  male|39.0|    0|    0|  112050|     0.0|    A36|       S|NULL|NULL|         Belfast, NI|\n",
            "|    8|     1|       1|Appleton, Mrs. Ed...|female|53.0|    2|    0|   11769| 51.4792|   C101|       S|   D|NULL| Bayside, Queens, NY|\n",
            "|    9|     1|       0|Artagaveytia, Mr....|  male|71.0|    0|    0|PC 17609| 49.5042|   NULL|       C|NULL|  22| Montevideo, Uruguay|\n",
            "|   10|     1|       0|Astor, Col. John ...|  male|47.0|    1|    0|PC 17757| 227.525|C62 C64|       C|NULL| 124|        New York, NY|\n",
            "|   11|     1|       1|Astor, Mrs. John ...|female|18.0|    1|    0|PC 17757| 227.525|C62 C64|       C|   4|NULL|        New York, NY|\n",
            "|   12|     1|       1|Aubart, Mme. Leon...|female|24.0|    0|    0|PC 17477|    69.3|    B35|       C|   9|NULL|       Paris, France|\n",
            "|   13|     1|       1|\"Barber, Miss. El...|female|26.0|    0|    0|   19877|   78.85|   NULL|       S|   6|NULL|                NULL|\n",
            "|   14|     1|       1|Barkworth, Mr. Al...|  male|80.0|    0|    0|   27042|    30.0|    A23|       S|   B|NULL|       Hessle, Yorks|\n",
            "|   15|     1|       0| Baumann, Mr. John D|  male|NULL|    0|    0|PC 17318|  25.925|   NULL|       S|NULL|NULL|        New York, NY|\n",
            "|   16|     1|       0|Baxter, Mr. Quigg...|  male|24.0|    0|    1|PC 17558|247.5208|B58 B60|       C|NULL|NULL|        Montreal, PQ|\n",
            "|   17|     1|       1|Baxter, Mrs. Jame...|female|50.0|    0|    1|PC 17558|247.5208|B58 B60|       C|   6|NULL|        Montreal, PQ|\n",
            "|   18|     1|       1|Bazzani, Miss. Al...|female|32.0|    0|    0|   11813| 76.2917|    D15|       C|   8|NULL|                NULL|\n",
            "|   19|     1|       0|Beattie, Mr. Thomson|  male|36.0|    0|    0|   13050| 75.2417|     C6|       C|   A|NULL|        Winnipeg, MN|\n",
            "+-----+------+--------+--------------------+------+----+-----+-----+--------+--------+-------+--------+----+----+--------------------+\n",
            "only showing top 20 rows\n",
            "\n"
          ]
        }
      ]
    },
    {
      "cell_type": "code",
      "source": [
        "sdf = sdf.withColumnRenamed('home.dest','home')"
      ],
      "metadata": {
        "id": "yDnme1vJi-Ay"
      },
      "execution_count": null,
      "outputs": []
    },
    {
      "cell_type": "code",
      "source": [
        "sdf.columns"
      ],
      "metadata": {
        "colab": {
          "base_uri": "https://localhost:8080/"
        },
        "id": "EI-lxuAFjIms",
        "outputId": "4d3767e9-6e28-4639-8cf3-bd3c96784ffd"
      },
      "execution_count": null,
      "outputs": [
        {
          "output_type": "execute_result",
          "data": {
            "text/plain": [
              "['index',\n",
              " 'pclass',\n",
              " 'survived',\n",
              " 'name',\n",
              " 'sex',\n",
              " 'age',\n",
              " 'sibsp',\n",
              " 'parch',\n",
              " 'ticket',\n",
              " 'fare',\n",
              " 'cabin',\n",
              " 'embarked',\n",
              " 'boat',\n",
              " 'body',\n",
              " 'home']"
            ]
          },
          "metadata": {},
          "execution_count": 28
        }
      ]
    },
    {
      "cell_type": "code",
      "source": [
        "# drop na\n",
        "sdf.na.drop(thresh=2).show()"
      ],
      "metadata": {
        "colab": {
          "base_uri": "https://localhost:8080/"
        },
        "id": "o31tBsxCiWhD",
        "outputId": "fb62e045-eded-46be-8fea-6aca45b89b07"
      },
      "execution_count": null,
      "outputs": [
        {
          "output_type": "stream",
          "name": "stdout",
          "text": [
            "+-----+------+--------+--------------------+------+----+-----+-----+--------+--------+-------+--------+----+----+--------------------+\n",
            "|index|pclass|survived|                name|   sex| age|sibsp|parch|  ticket|    fare|  cabin|embarked|boat|body|                home|\n",
            "+-----+------+--------+--------------------+------+----+-----+-----+--------+--------+-------+--------+----+----+--------------------+\n",
            "|    0|     1|       1|Allen, Miss. Elis...|female|29.0|    0|    0|   24160|211.3375|     B5|       S|   2|NULL|        St Louis, MO|\n",
            "|    1|     1|       1|Allison, Master. ...|  male|0.92|    1|    2|  113781|  151.55|C22 C26|       S|  11|NULL|Montreal, PQ / Ch...|\n",
            "|    2|     1|       0|Allison, Miss. He...|female| 2.0|    1|    2|  113781|  151.55|C22 C26|       S|NULL|NULL|Montreal, PQ / Ch...|\n",
            "|    3|     1|       0|Allison, Mr. Huds...|  male|30.0|    1|    2|  113781|  151.55|C22 C26|       S|NULL| 135|Montreal, PQ / Ch...|\n",
            "|    4|     1|       0|Allison, Mrs. Hud...|female|25.0|    1|    2|  113781|  151.55|C22 C26|       S|NULL|NULL|Montreal, PQ / Ch...|\n",
            "|    5|     1|       1| Anderson, Mr. Harry|  male|48.0|    0|    0|   19952|   26.55|    E12|       S|   3|NULL|        New York, NY|\n",
            "|    6|     1|       1|Andrews, Miss. Ko...|female|63.0|    1|    0|   13502| 77.9583|     D7|       S|  10|NULL|          Hudson, NY|\n",
            "|    7|     1|       0|Andrews, Mr. Thom...|  male|39.0|    0|    0|  112050|     0.0|    A36|       S|NULL|NULL|         Belfast, NI|\n",
            "|    8|     1|       1|Appleton, Mrs. Ed...|female|53.0|    2|    0|   11769| 51.4792|   C101|       S|   D|NULL| Bayside, Queens, NY|\n",
            "|    9|     1|       0|Artagaveytia, Mr....|  male|71.0|    0|    0|PC 17609| 49.5042|   NULL|       C|NULL|  22| Montevideo, Uruguay|\n",
            "|   10|     1|       0|Astor, Col. John ...|  male|47.0|    1|    0|PC 17757| 227.525|C62 C64|       C|NULL| 124|        New York, NY|\n",
            "|   11|     1|       1|Astor, Mrs. John ...|female|18.0|    1|    0|PC 17757| 227.525|C62 C64|       C|   4|NULL|        New York, NY|\n",
            "|   12|     1|       1|Aubart, Mme. Leon...|female|24.0|    0|    0|PC 17477|    69.3|    B35|       C|   9|NULL|       Paris, France|\n",
            "|   13|     1|       1|\"Barber, Miss. El...|female|26.0|    0|    0|   19877|   78.85|   NULL|       S|   6|NULL|                NULL|\n",
            "|   14|     1|       1|Barkworth, Mr. Al...|  male|80.0|    0|    0|   27042|    30.0|    A23|       S|   B|NULL|       Hessle, Yorks|\n",
            "|   15|     1|       0| Baumann, Mr. John D|  male|NULL|    0|    0|PC 17318|  25.925|   NULL|       S|NULL|NULL|        New York, NY|\n",
            "|   16|     1|       0|Baxter, Mr. Quigg...|  male|24.0|    0|    1|PC 17558|247.5208|B58 B60|       C|NULL|NULL|        Montreal, PQ|\n",
            "|   17|     1|       1|Baxter, Mrs. Jame...|female|50.0|    0|    1|PC 17558|247.5208|B58 B60|       C|   6|NULL|        Montreal, PQ|\n",
            "|   18|     1|       1|Bazzani, Miss. Al...|female|32.0|    0|    0|   11813| 76.2917|    D15|       C|   8|NULL|                NULL|\n",
            "|   19|     1|       0|Beattie, Mr. Thomson|  male|36.0|    0|    0|   13050| 75.2417|     C6|       C|   A|NULL|        Winnipeg, MN|\n",
            "+-----+------+--------+--------------------+------+----+-----+-----+--------+--------+-------+--------+----+----+--------------------+\n",
            "only showing top 20 rows\n",
            "\n"
          ]
        }
      ]
    },
    {
      "cell_type": "code",
      "source": [
        "sdf.describe().show()"
      ],
      "metadata": {
        "colab": {
          "base_uri": "https://localhost:8080/"
        },
        "id": "jC1qoYYxilhz",
        "outputId": "03dd0609-fa44-4a7c-98da-9d84871a47d8"
      },
      "execution_count": null,
      "outputs": [
        {
          "output_type": "stream",
          "name": "stdout",
          "text": [
            "+-------+-----------------+------------------+-------------------+--------------------+------+------------------+------------------+------------------+------------------+-----------------+-----+--------+------------------+-----------------+-------------------+\n",
            "|summary|            index|            pclass|           survived|                name|   sex|               age|             sibsp|             parch|            ticket|             fare|cabin|embarked|              boat|             body|               home|\n",
            "+-------+-----------------+------------------+-------------------+--------------------+------+------------------+------------------+------------------+------------------+-----------------+-----+--------+------------------+-----------------+-------------------+\n",
            "|  count|             1309|              1309|               1309|                1309|  1309|              1046|              1309|              1309|              1309|             1308|  295|    1307|               486|              121|                745|\n",
            "|   mean|            654.0| 2.294881588999236| 0.3819709702062643|                NULL|  NULL|29.881137667304014|0.4988540870893812|0.3850267379679144| 249039.1368861024|33.29547928134572| NULL|    NULL| 9.404522613065327|160.8099173553719|               NULL|\n",
            "| stddev|378.0200611960517|0.8378360189701272|0.48605517086648325|                NULL|  NULL| 14.41349321127133|1.0416583905961012|0.8655602753495143|442685.31767656445|51.75866823917421| NULL|    NULL|4.3574169836049395|97.69692199600308|               NULL|\n",
            "|    min|                0|                 1|                  0|\"Andersson, Mr. A...|female|              0.17|                 0|                 0|            110152|              0.0|  A10|       C|                 1|                1|      ?Havana, Cuba|\n",
            "|    max|             1308|                 3|                  1|van Melkebeke, Mr...|  male|              80.0|                 8|                 9|         WE/P 5735|         512.3292|    T|       S|                 D|              328|Zurich, Switzerland|\n",
            "+-------+-----------------+------------------+-------------------+--------------------+------+------------------+------------------+------------------+------------------+-----------------+-----+--------+------------------+-----------------+-------------------+\n",
            "\n"
          ]
        }
      ]
    },
    {
      "cell_type": "code",
      "source": [
        "sdf.select(['age']).na.fill(29.88).show()"
      ],
      "metadata": {
        "colab": {
          "base_uri": "https://localhost:8080/"
        },
        "id": "zpl2Y4MijfT1",
        "outputId": "6031e14b-c1e3-4a27-eb59-389391e085ef"
      },
      "execution_count": null,
      "outputs": [
        {
          "output_type": "stream",
          "name": "stdout",
          "text": [
            "+-----+\n",
            "|  age|\n",
            "+-----+\n",
            "| 29.0|\n",
            "| 0.92|\n",
            "|  2.0|\n",
            "| 30.0|\n",
            "| 25.0|\n",
            "| 48.0|\n",
            "| 63.0|\n",
            "| 39.0|\n",
            "| 53.0|\n",
            "| 71.0|\n",
            "| 47.0|\n",
            "| 18.0|\n",
            "| 24.0|\n",
            "| 26.0|\n",
            "| 80.0|\n",
            "|29.88|\n",
            "| 24.0|\n",
            "| 50.0|\n",
            "| 32.0|\n",
            "| 36.0|\n",
            "+-----+\n",
            "only showing top 20 rows\n",
            "\n"
          ]
        }
      ]
    },
    {
      "cell_type": "markdown",
      "source": [
        "# **Big Data Regression**\n",
        "\n",
        "1. Linear Regression\n",
        "2. Decision Tree\n",
        "3. Random Forest\n",
        "4. Gradient Boosting Tree"
      ],
      "metadata": {
        "id": "ZRg87Uqc_-Fn"
      }
    },
    {
      "cell_type": "code",
      "source": [
        "# install pyspark\n",
        "!pip install pyspark"
      ],
      "metadata": {
        "id": "tip7UGIvkWIL",
        "colab": {
          "base_uri": "https://localhost:8080/"
        },
        "outputId": "3ce6a4fc-e599-4c99-95df-7690919966c3"
      },
      "execution_count": null,
      "outputs": [
        {
          "output_type": "stream",
          "name": "stdout",
          "text": [
            "Collecting pyspark\n",
            "  Downloading pyspark-3.5.0.tar.gz (316.9 MB)\n",
            "\u001b[2K     \u001b[90m━━━━━━━━━━━━━━━━━━━━━━━━━━━━━━━━━━━━━━━━\u001b[0m \u001b[32m316.9/316.9 MB\u001b[0m \u001b[31m2.6 MB/s\u001b[0m eta \u001b[36m0:00:00\u001b[0m\n",
            "\u001b[?25h  Preparing metadata (setup.py) ... \u001b[?25l\u001b[?25hdone\n",
            "Requirement already satisfied: py4j==0.10.9.7 in /usr/local/lib/python3.10/dist-packages (from pyspark) (0.10.9.7)\n",
            "Building wheels for collected packages: pyspark\n",
            "  Building wheel for pyspark (setup.py) ... \u001b[?25l\u001b[?25hdone\n",
            "  Created wheel for pyspark: filename=pyspark-3.5.0-py2.py3-none-any.whl size=317425345 sha256=378c0378ebe91703179996b793b0ff5aad3bf09ca14162619bafc77405002812\n",
            "  Stored in directory: /root/.cache/pip/wheels/41/4e/10/c2cf2467f71c678cfc8a6b9ac9241e5e44a01940da8fbb17fc\n",
            "Successfully built pyspark\n",
            "Installing collected packages: pyspark\n",
            "Successfully installed pyspark-3.5.0\n"
          ]
        }
      ]
    },
    {
      "cell_type": "code",
      "source": [
        "# import library\n",
        "import pyspark\n",
        "import pandas as pd"
      ],
      "metadata": {
        "id": "0X0ZL3fcDKR_"
      },
      "execution_count": null,
      "outputs": []
    },
    {
      "cell_type": "code",
      "source": [
        "from pyspark.sql import SparkSession"
      ],
      "metadata": {
        "id": "K_ZsN-_rDOII"
      },
      "execution_count": null,
      "outputs": []
    },
    {
      "cell_type": "code",
      "source": [
        "spark = SparkSession.builder.getOrCreate()"
      ],
      "metadata": {
        "id": "uLHd4UPVDhxh"
      },
      "execution_count": null,
      "outputs": []
    },
    {
      "cell_type": "code",
      "source": [
        "spark"
      ],
      "metadata": {
        "colab": {
          "base_uri": "https://localhost:8080/",
          "height": 219
        },
        "id": "Cf6hAlIzDoTN",
        "outputId": "7b3fbe6e-26c6-42bd-fb53-f8966cb93bb4"
      },
      "execution_count": null,
      "outputs": [
        {
          "output_type": "execute_result",
          "data": {
            "text/plain": [
              "<pyspark.sql.session.SparkSession at 0x7af3e0f2a0e0>"
            ],
            "text/html": [
              "\n",
              "            <div>\n",
              "                <p><b>SparkSession - in-memory</b></p>\n",
              "                \n",
              "        <div>\n",
              "            <p><b>SparkContext</b></p>\n",
              "\n",
              "            <p><a href=\"http://a0be7fec63b9:4040\">Spark UI</a></p>\n",
              "\n",
              "            <dl>\n",
              "              <dt>Version</dt>\n",
              "                <dd><code>v3.5.0</code></dd>\n",
              "              <dt>Master</dt>\n",
              "                <dd><code>local[*]</code></dd>\n",
              "              <dt>AppName</dt>\n",
              "                <dd><code>pyspark-shell</code></dd>\n",
              "            </dl>\n",
              "        </div>\n",
              "        \n",
              "            </div>\n",
              "        "
            ]
          },
          "metadata": {},
          "execution_count": 6
        }
      ]
    },
    {
      "cell_type": "code",
      "source": [
        "df = pd.read_csv('https://github.com/YBIFoundation/Dataset/raw/main/Admission%20Chance.csv')"
      ],
      "metadata": {
        "id": "7paI_duzDptK"
      },
      "execution_count": null,
      "outputs": []
    },
    {
      "cell_type": "code",
      "source": [
        "sdf = spark.createDataFrame(df)"
      ],
      "metadata": {
        "id": "h7GDq07FD2ke"
      },
      "execution_count": null,
      "outputs": []
    },
    {
      "cell_type": "code",
      "source": [
        "sdf.show()"
      ],
      "metadata": {
        "id": "FSbThGRZD9gz"
      },
      "execution_count": null,
      "outputs": []
    },
    {
      "cell_type": "code",
      "source": [
        "sdf.describe().show()"
      ],
      "metadata": {
        "id": "x_w6f2MoD_MQ"
      },
      "execution_count": null,
      "outputs": []
    },
    {
      "cell_type": "code",
      "source": [
        "# define y and X (vector)"
      ],
      "metadata": {
        "id": "t_ECbjg8ESSx"
      },
      "execution_count": null,
      "outputs": []
    },
    {
      "cell_type": "code",
      "source": [
        "sdf.columns"
      ],
      "metadata": {
        "id": "7rslBqPIEWRl"
      },
      "execution_count": null,
      "outputs": []
    },
    {
      "cell_type": "code",
      "source": [
        "from pyspark.ml.feature import VectorAssembler"
      ],
      "metadata": {
        "id": "5DB7v6a1EdRi"
      },
      "execution_count": null,
      "outputs": []
    },
    {
      "cell_type": "code",
      "source": [
        "va = VectorAssembler(inputCols=['GRE Score',\n",
        " 'TOEFL Score',\n",
        " 'University Rating',\n",
        " ' SOP',\n",
        " 'LOR ',\n",
        " 'CGPA',\n",
        " 'Research'], outputCol='features')"
      ],
      "metadata": {
        "id": "ms7k3PPfE8vL"
      },
      "execution_count": null,
      "outputs": []
    },
    {
      "cell_type": "code",
      "source": [
        "sdf = va.transform(sdf)"
      ],
      "metadata": {
        "id": "DyerTPAwFVQU"
      },
      "execution_count": null,
      "outputs": []
    },
    {
      "cell_type": "code",
      "source": [
        "sdf.show()"
      ],
      "metadata": {
        "id": "brKp7_eGFZK_"
      },
      "execution_count": null,
      "outputs": []
    },
    {
      "cell_type": "code",
      "source": [
        "modeldata = sdf.select(['Chance of Admit ', 'X'])"
      ],
      "metadata": {
        "id": "3whj4lAQFpdJ"
      },
      "execution_count": null,
      "outputs": []
    },
    {
      "cell_type": "code",
      "source": [
        "train,test = modeldata.randomSplit([.8,.2], seed = 2529)"
      ],
      "metadata": {
        "id": "G56ZXlxWGKyi"
      },
      "execution_count": null,
      "outputs": []
    },
    {
      "cell_type": "code",
      "source": [
        "from pyspark.ml.regression import LinearRegression\n",
        "from pyspark.ml.regression import DecisionTreeRegressor\n",
        "from pyspark.ml.regression import RandomForestRegressor\n",
        "from pyspark.ml.regression import GBTRegressor"
      ],
      "metadata": {
        "id": "FrOoHdNAGQqD"
      },
      "execution_count": null,
      "outputs": []
    },
    {
      "cell_type": "code",
      "source": [
        "lr = LinearRegression(featuresCol= 'X' , labelCol= 'Chance of Admit ')\n",
        "dtr = DecisionTreeRegressor(featuresCol= 'X' , labelCol= 'Chance of Admit ')\n",
        "rfr = RandomForestRegressor(featuresCol= 'X' , labelCol= 'Chance of Admit ')\n",
        "gbtr = GBTRegressor(featuresCol= 'X' , labelCol= 'Chance of Admit ')"
      ],
      "metadata": {
        "id": "P3AQUUzsHkD9"
      },
      "execution_count": null,
      "outputs": []
    },
    {
      "cell_type": "code",
      "source": [
        "lrtrain = lr.fit(train)\n",
        "dtrtrain = dtr.fit(train)\n",
        "rfrtrain = rfr.fit(train)\n",
        "gbtrtrain = gbtr.fit(train)"
      ],
      "metadata": {
        "id": "BP-1rlqKH7xP"
      },
      "execution_count": null,
      "outputs": []
    },
    {
      "cell_type": "code",
      "source": [
        "lrtrain.intercept, lrtrain.coefficients"
      ],
      "metadata": {
        "colab": {
          "base_uri": "https://localhost:8080/"
        },
        "id": "G1e86bAiIWis",
        "outputId": "912be1cb-0266-41c1-d5ef-fc90025b3090"
      },
      "execution_count": null,
      "outputs": [
        {
          "output_type": "execute_result",
          "data": {
            "text/plain": [
              "(-1.2622446352447052,\n",
              " DenseVector([0.0021, 0.0028, 0.0046, -0.0054, 0.0292, 0.1062, 0.029]))"
            ]
          },
          "metadata": {},
          "execution_count": 51
        }
      ]
    },
    {
      "cell_type": "code",
      "source": [
        "lrtrain.summary.meanAbsoluteError"
      ],
      "metadata": {
        "colab": {
          "base_uri": "https://localhost:8080/"
        },
        "id": "CjiLihEmJtcO",
        "outputId": "c30ae569-f808-4d2a-ae31-1f3eff599f6d"
      },
      "execution_count": null,
      "outputs": [
        {
          "output_type": "execute_result",
          "data": {
            "text/plain": [
              "0.04376838852386611"
            ]
          },
          "metadata": {},
          "execution_count": 52
        }
      ]
    },
    {
      "cell_type": "code",
      "source": [
        "lrtrain.summary.r2"
      ],
      "metadata": {
        "colab": {
          "base_uri": "https://localhost:8080/"
        },
        "id": "MDe22vVYKnMH",
        "outputId": "8442008e-f3df-40d1-bde5-08f652b337f2"
      },
      "execution_count": null,
      "outputs": [
        {
          "output_type": "execute_result",
          "data": {
            "text/plain": [
              "0.8161528589378856"
            ]
          },
          "metadata": {},
          "execution_count": 58
        }
      ]
    },
    {
      "cell_type": "code",
      "source": [
        "lrtest = lrtrain.transform(test)"
      ],
      "metadata": {
        "id": "expF1plEIu5o"
      },
      "execution_count": null,
      "outputs": []
    },
    {
      "cell_type": "code",
      "source": [
        "lrtest.show()"
      ],
      "metadata": {
        "colab": {
          "base_uri": "https://localhost:8080/"
        },
        "id": "OP3XeigbI78l",
        "outputId": "7f077b59-cfd3-42de-9142-d4854a0db97c"
      },
      "execution_count": null,
      "outputs": [
        {
          "output_type": "stream",
          "name": "stdout",
          "text": [
            "+----------------+--------------------+------------------+\n",
            "|Chance of Admit |                   X|        prediction|\n",
            "+----------------+--------------------+------------------+\n",
            "|            0.36|[303.0,99.0,3.0,2...|0.5355458737719467|\n",
            "|            0.42|[311.0,104.0,2.0,...| 0.614874849310836|\n",
            "|            0.44|[301.0,97.0,2.0,3...|0.5828817155230888|\n",
            "|            0.45|[290.0,104.0,4.0,...|0.5053852283191664|\n",
            "|            0.48|[307.0,108.0,2.0,...|0.5869137883526063|\n",
            "|            0.48|[309.0,100.0,2.0,...|0.6022835831202638|\n",
            "|            0.52|[325.0,106.0,3.0,...|0.7443589093963401|\n",
            "|            0.52|[325.0,111.0,3.0,...|0.7490536232289426|\n",
            "|            0.57|[316.0,107.0,2.0,...|0.7345330654584272|\n",
            "|            0.58|[300.0,105.0,1.0,...|0.5422920046710022|\n",
            "|            0.61|[311.0,104.0,3.0,...|0.6297537225819916|\n",
            "|            0.64|[299.0,106.0,2.0,...|0.6535602683837796|\n",
            "|            0.64|[312.0,105.0,2.0,...|0.6271731642122833|\n",
            "|            0.64|[318.0,106.0,2.0,...|0.6714620443286958|\n",
            "|            0.65|[302.0,102.0,3.0,...|0.6778923334338667|\n",
            "|            0.65|[309.0,104.0,2.0,...|0.6210552436339238|\n",
            "|             0.7|[325.0,114.0,4.0,...|0.6861655183767443|\n",
            "|            0.71|[322.0,107.0,3.0,...|0.7325698424824805|\n",
            "|            0.73|[306.0,105.0,2.0,...|0.6121374340031414|\n",
            "|            0.73|[310.0,106.0,2.0,...|0.6280260439538172|\n",
            "+----------------+--------------------+------------------+\n",
            "only showing top 20 rows\n",
            "\n"
          ]
        }
      ]
    },
    {
      "cell_type": "code",
      "source": [
        "evaluation = lrtrain.evaluate(test)"
      ],
      "metadata": {
        "id": "BL-5mNJjJKTj"
      },
      "execution_count": null,
      "outputs": []
    },
    {
      "cell_type": "code",
      "source": [
        "evaluation.r2"
      ],
      "metadata": {
        "colab": {
          "base_uri": "https://localhost:8080/"
        },
        "id": "ixvBVPp_JiLw",
        "outputId": "db674dc6-daac-4c38-d9bb-99ac3bebb608"
      },
      "execution_count": null,
      "outputs": [
        {
          "output_type": "execute_result",
          "data": {
            "text/plain": [
              "0.7528377698166766"
            ]
          },
          "metadata": {},
          "execution_count": 62
        }
      ]
    },
    {
      "cell_type": "code",
      "source": [
        "evaluation.meanAbsoluteError"
      ],
      "metadata": {
        "colab": {
          "base_uri": "https://localhost:8080/"
        },
        "id": "uYNqKFQ2JnTj",
        "outputId": "a081991f-c6fc-4a6a-ca0d-24631776ee04"
      },
      "execution_count": null,
      "outputs": [
        {
          "output_type": "execute_result",
          "data": {
            "text/plain": [
              "0.0511163672550054"
            ]
          },
          "metadata": {},
          "execution_count": 63
        }
      ]
    },
    {
      "cell_type": "markdown",
      "source": [
        "# **Practice Session**"
      ],
      "metadata": {
        "id": "-9oRMvo1Jd6P"
      }
    },
    {
      "cell_type": "code",
      "source": [
        "# step 1: install pyspark\n",
        "!pip install pyspark"
      ],
      "metadata": {
        "colab": {
          "base_uri": "https://localhost:8080/"
        },
        "id": "ZAxDYLdyJgv6",
        "outputId": "69a75cd4-2326-4ca0-88cd-8d56ff42cbec"
      },
      "execution_count": null,
      "outputs": [
        {
          "output_type": "stream",
          "name": "stdout",
          "text": [
            "Collecting pyspark\n",
            "  Downloading pyspark-3.5.0.tar.gz (316.9 MB)\n",
            "\u001b[2K     \u001b[90m━━━━━━━━━━━━━━━━━━━━━━━━━━━━━━━━━━━━━━━━\u001b[0m \u001b[32m316.9/316.9 MB\u001b[0m \u001b[31m4.3 MB/s\u001b[0m eta \u001b[36m0:00:00\u001b[0m\n",
            "\u001b[?25h  Preparing metadata (setup.py) ... \u001b[?25l\u001b[?25hdone\n",
            "Requirement already satisfied: py4j==0.10.9.7 in /usr/local/lib/python3.10/dist-packages (from pyspark) (0.10.9.7)\n",
            "Building wheels for collected packages: pyspark\n",
            "  Building wheel for pyspark (setup.py) ... \u001b[?25l\u001b[?25hdone\n",
            "  Created wheel for pyspark: filename=pyspark-3.5.0-py2.py3-none-any.whl size=317425345 sha256=66de344ab4ac885dc402774be07f0eec085aa7cb3473c526cf0c150ef444d752\n",
            "  Stored in directory: /root/.cache/pip/wheels/41/4e/10/c2cf2467f71c678cfc8a6b9ac9241e5e44a01940da8fbb17fc\n",
            "Successfully built pyspark\n",
            "Installing collected packages: pyspark\n",
            "Successfully installed pyspark-3.5.0\n"
          ]
        }
      ]
    },
    {
      "cell_type": "code",
      "source": [
        "# step 2: import library\n",
        "import pandas as pd\n",
        "import pyspark"
      ],
      "metadata": {
        "id": "dLiKwWpDJhUw"
      },
      "execution_count": null,
      "outputs": []
    },
    {
      "cell_type": "code",
      "source": [
        "# step 3: create pyspark session\n",
        "from pyspark.sql import SparkSession"
      ],
      "metadata": {
        "id": "7E1o1H5OJhX9"
      },
      "execution_count": null,
      "outputs": []
    },
    {
      "cell_type": "code",
      "source": [
        "spark = SparkSession.builder.getOrCreate()"
      ],
      "metadata": {
        "id": "cb5KIqBSJhbW"
      },
      "execution_count": null,
      "outputs": []
    },
    {
      "cell_type": "code",
      "source": [
        "# step 4: read dataset\n",
        "sdf = spark.read.csv('/content/AdultIncome.csv',header=True,inferSchema=True)"
      ],
      "metadata": {
        "id": "7WjDbdaYJhfI"
      },
      "execution_count": null,
      "outputs": []
    },
    {
      "cell_type": "code",
      "source": [
        "sdf.show()"
      ],
      "metadata": {
        "colab": {
          "base_uri": "https://localhost:8080/"
        },
        "id": "Sx0TRm4TJgzJ",
        "outputId": "e4c02417-b57d-487c-e3c8-384fd14c6438"
      },
      "execution_count": null,
      "outputs": [
        {
          "output_type": "stream",
          "name": "stdout",
          "text": [
            "+---+-------+------------+-------------+-------------+------+-----------+------+\n",
            "|Age|IsAdult|         Job|Qualification|MaritalStatus|Gender|BankBalance|Salary|\n",
            "+---+-------+------------+-------------+-------------+------+-----------+------+\n",
            "| 39|      1|     GovtJob|     Bachelor|    UnMarried|  Male|      77516| <=50K|\n",
            "| 50|      1|SelfEmployed|     Bachelor|      Married|  Male|      83311| <=50K|\n",
            "| 38|      1|  PrivateJob|     Bachelor|     Divorced|  Male|     215646| <=50K|\n",
            "| 53|      1|  PrivateJob|       School|      Married|  Male|     234721| <=50K|\n",
            "| 28|      1|  PrivateJob|     Bachelor|      Married|Female|     338409| <=50K|\n",
            "| 37|      1|  PrivateJob|      Masters|      Married|Female|     284582| <=50K|\n",
            "| 49|      1|  PrivateJob|       School|      Married|Female|     160187| <=50K|\n",
            "| 52|      1|SelfEmployed|     Bachelor|      Married|  Male|     209642|  >50K|\n",
            "| 31|      1|  PrivateJob|      Masters|    UnMarried|Female|      45781|  >50K|\n",
            "| 42|      1|  PrivateJob|     Bachelor|      Married|  Male|     159449|  >50K|\n",
            "| 37|      1|  PrivateJob|     Bachelor|      Married|  Male|     280464|  >50K|\n",
            "| 30|      1|     GovtJob|     Bachelor|      Married|  Male|     141297|  >50K|\n",
            "| 23|      1|  PrivateJob|     Bachelor|    UnMarried|Female|     122272| <=50K|\n",
            "| 32|      1|  PrivateJob|     Bachelor|    UnMarried|  Male|     205019| <=50K|\n",
            "| 40|      1|  PrivateJob|     Bachelor|      Married|  Male|     121772|  >50K|\n",
            "| 34|      1|  PrivateJob|       School|      Married|  Male|     245487| <=50K|\n",
            "| 25|      1|SelfEmployed|     Bachelor|    UnMarried|  Male|     176756| <=50K|\n",
            "| 32|      1|  PrivateJob|     Bachelor|    UnMarried|  Male|     186824| <=50K|\n",
            "| 38|      1|  PrivateJob|       School|      Married|  Male|      28887| <=50K|\n",
            "| 43|      1|SelfEmployed|      Masters|     Divorced|Female|     292175|  >50K|\n",
            "+---+-------+------------+-------------+-------------+------+-----------+------+\n",
            "only showing top 20 rows\n",
            "\n"
          ]
        }
      ]
    },
    {
      "cell_type": "code",
      "source": [
        "sdf.dtypes"
      ],
      "metadata": {
        "colab": {
          "base_uri": "https://localhost:8080/"
        },
        "id": "mh52-9K4Jg2a",
        "outputId": "996ff8f1-2710-45f3-a12b-8327ebaabd18"
      },
      "execution_count": null,
      "outputs": [
        {
          "output_type": "execute_result",
          "data": {
            "text/plain": [
              "[('Age', 'int'),\n",
              " ('IsAdult', 'int'),\n",
              " ('Job', 'string'),\n",
              " ('Qualification', 'string'),\n",
              " ('MaritalStatus', 'string'),\n",
              " ('Gender', 'string'),\n",
              " ('BankBalance', 'int'),\n",
              " ('Salary', 'string')]"
            ]
          },
          "metadata": {},
          "execution_count": 37
        }
      ]
    },
    {
      "cell_type": "code",
      "source": [
        "sdf.columns"
      ],
      "metadata": {
        "colab": {
          "base_uri": "https://localhost:8080/"
        },
        "id": "9vTFeqXVNIu3",
        "outputId": "e3abba6b-2fa9-4d0a-95fe-bdd57fbe164c"
      },
      "execution_count": null,
      "outputs": [
        {
          "output_type": "execute_result",
          "data": {
            "text/plain": [
              "['Age',\n",
              " 'IsAdult',\n",
              " 'Job',\n",
              " 'Qualification',\n",
              " 'MaritalStatus',\n",
              " 'Gender',\n",
              " 'BankBalance',\n",
              " 'Salary']"
            ]
          },
          "metadata": {},
          "execution_count": 38
        }
      ]
    },
    {
      "cell_type": "code",
      "source": [
        "# step : string indexer\n",
        "from pyspark.ml.feature import StringIndexer"
      ],
      "metadata": {
        "id": "uIVIDRwVMy8g"
      },
      "execution_count": null,
      "outputs": []
    },
    {
      "cell_type": "code",
      "source": [
        "si = StringIndexer(inputCols= ['Job',\n",
        " 'Qualification',\n",
        " 'MaritalStatus',\n",
        " 'Gender'] , outputCols= ['iJob',\n",
        " 'iQualification',\n",
        " 'iMaritalStatus',\n",
        " 'iGender'] )"
      ],
      "metadata": {
        "id": "VLTkgXO2MzFS"
      },
      "execution_count": null,
      "outputs": []
    },
    {
      "cell_type": "code",
      "source": [
        "sdf = si.fit(sdf).transform(sdf)"
      ],
      "metadata": {
        "id": "U_u-o3DIMzJo"
      },
      "execution_count": null,
      "outputs": []
    },
    {
      "cell_type": "code",
      "source": [
        "sdf.show()"
      ],
      "metadata": {
        "colab": {
          "base_uri": "https://localhost:8080/"
        },
        "id": "tSAGBPKZNrMC",
        "outputId": "c1aaa920-a306-46a2-90a0-6aa81b0e31ae"
      },
      "execution_count": null,
      "outputs": [
        {
          "output_type": "stream",
          "name": "stdout",
          "text": [
            "+---+-------+------------+-------------+-------------+------+-----------+------+----+--------------+--------------+-------+\n",
            "|Age|IsAdult|         Job|Qualification|MaritalStatus|Gender|BankBalance|Salary|iJob|iQualification|iMaritalStatus|iGender|\n",
            "+---+-------+------------+-------------+-------------+------+-----------+------+----+--------------+--------------+-------+\n",
            "| 39|      1|     GovtJob|     Bachelor|    UnMarried|  Male|      77516| <=50K| 2.0|           0.0|           1.0|    0.0|\n",
            "| 50|      1|SelfEmployed|     Bachelor|      Married|  Male|      83311| <=50K| 1.0|           0.0|           0.0|    0.0|\n",
            "| 38|      1|  PrivateJob|     Bachelor|     Divorced|  Male|     215646| <=50K| 0.0|           0.0|           2.0|    0.0|\n",
            "| 53|      1|  PrivateJob|       School|      Married|  Male|     234721| <=50K| 0.0|           1.0|           0.0|    0.0|\n",
            "| 28|      1|  PrivateJob|     Bachelor|      Married|Female|     338409| <=50K| 0.0|           0.0|           0.0|    1.0|\n",
            "| 37|      1|  PrivateJob|      Masters|      Married|Female|     284582| <=50K| 0.0|           2.0|           0.0|    1.0|\n",
            "| 49|      1|  PrivateJob|       School|      Married|Female|     160187| <=50K| 0.0|           1.0|           0.0|    1.0|\n",
            "| 52|      1|SelfEmployed|     Bachelor|      Married|  Male|     209642|  >50K| 1.0|           0.0|           0.0|    0.0|\n",
            "| 31|      1|  PrivateJob|      Masters|    UnMarried|Female|      45781|  >50K| 0.0|           2.0|           1.0|    1.0|\n",
            "| 42|      1|  PrivateJob|     Bachelor|      Married|  Male|     159449|  >50K| 0.0|           0.0|           0.0|    0.0|\n",
            "| 37|      1|  PrivateJob|     Bachelor|      Married|  Male|     280464|  >50K| 0.0|           0.0|           0.0|    0.0|\n",
            "| 30|      1|     GovtJob|     Bachelor|      Married|  Male|     141297|  >50K| 2.0|           0.0|           0.0|    0.0|\n",
            "| 23|      1|  PrivateJob|     Bachelor|    UnMarried|Female|     122272| <=50K| 0.0|           0.0|           1.0|    1.0|\n",
            "| 32|      1|  PrivateJob|     Bachelor|    UnMarried|  Male|     205019| <=50K| 0.0|           0.0|           1.0|    0.0|\n",
            "| 40|      1|  PrivateJob|     Bachelor|      Married|  Male|     121772|  >50K| 0.0|           0.0|           0.0|    0.0|\n",
            "| 34|      1|  PrivateJob|       School|      Married|  Male|     245487| <=50K| 0.0|           1.0|           0.0|    0.0|\n",
            "| 25|      1|SelfEmployed|     Bachelor|    UnMarried|  Male|     176756| <=50K| 1.0|           0.0|           1.0|    0.0|\n",
            "| 32|      1|  PrivateJob|     Bachelor|    UnMarried|  Male|     186824| <=50K| 0.0|           0.0|           1.0|    0.0|\n",
            "| 38|      1|  PrivateJob|       School|      Married|  Male|      28887| <=50K| 0.0|           1.0|           0.0|    0.0|\n",
            "| 43|      1|SelfEmployed|      Masters|     Divorced|Female|     292175|  >50K| 1.0|           2.0|           2.0|    1.0|\n",
            "+---+-------+------------+-------------+-------------+------+-----------+------+----+--------------+--------------+-------+\n",
            "only showing top 20 rows\n",
            "\n"
          ]
        }
      ]
    },
    {
      "cell_type": "code",
      "source": [
        "sdf.columns"
      ],
      "metadata": {
        "colab": {
          "base_uri": "https://localhost:8080/"
        },
        "id": "MU2GZc-eOPBW",
        "outputId": "0f788e21-940e-425c-9d37-f312fd5f6489"
      },
      "execution_count": null,
      "outputs": [
        {
          "output_type": "execute_result",
          "data": {
            "text/plain": [
              "['Age',\n",
              " 'IsAdult',\n",
              " 'Job',\n",
              " 'Qualification',\n",
              " 'MaritalStatus',\n",
              " 'Gender',\n",
              " 'BankBalance',\n",
              " 'Salary',\n",
              " 'iJob',\n",
              " 'iQualification',\n",
              " 'iMaritalStatus',\n",
              " 'iGender']"
            ]
          },
          "metadata": {},
          "execution_count": 43
        }
      ]
    },
    {
      "cell_type": "code",
      "source": [
        "# step : One Hot Encoder\n",
        "from pyspark.ml.feature import OneHotEncoder"
      ],
      "metadata": {
        "id": "tNHFakBiKycO"
      },
      "execution_count": null,
      "outputs": []
    },
    {
      "cell_type": "code",
      "source": [
        "#ohe = OneHotEncoder(inputCols=['IsAdult',\n",
        " 'Job',\n",
        " 'Qualification',\n",
        " 'MaritalStatus',\n",
        " 'Gender'], outputCols=['eIsAdult',\n",
        " 'eJob',\n",
        " 'eQualification',\n",
        " 'eMaritalStatus',\n",
        " 'eGender'])"
      ],
      "metadata": {
        "id": "noUxiq_r0gZe"
      },
      "execution_count": null,
      "outputs": []
    },
    {
      "cell_type": "code",
      "source": [
        "ohe = OneHotEncoder(inputCols=['IsAdult','iJob',\n",
        " 'iQualification',\n",
        " 'iMaritalStatus',\n",
        " 'iGender'], outputCols=['eIsAdult','eJob',\n",
        " 'eQualification',\n",
        " 'eMaritalStatus',\n",
        " 'eGender'])"
      ],
      "metadata": {
        "id": "IGVK7IzxKyfn"
      },
      "execution_count": null,
      "outputs": []
    },
    {
      "cell_type": "code",
      "source": [
        "ohe.fit(sdf).transform(sdf).show()"
      ],
      "metadata": {
        "colab": {
          "base_uri": "https://localhost:8080/"
        },
        "id": "wVXJR14dKyi7",
        "outputId": "c66fd7ec-2c0b-40ab-ee2d-da58e45888d3"
      },
      "execution_count": null,
      "outputs": [
        {
          "output_type": "stream",
          "name": "stdout",
          "text": [
            "+---+-------+------------+-------------+-------------+------+-----------+------+----+--------------+--------------+-------+---------+-------------+--------------+--------------+-------------+\n",
            "|Age|IsAdult|         Job|Qualification|MaritalStatus|Gender|BankBalance|Salary|iJob|iQualification|iMaritalStatus|iGender| eIsAdult|         eJob|eQualification|eMaritalStatus|      eGender|\n",
            "+---+-------+------------+-------------+-------------+------+-----------+------+----+--------------+--------------+-------+---------+-------------+--------------+--------------+-------------+\n",
            "| 39|      1|     GovtJob|     Bachelor|    UnMarried|  Male|      77516| <=50K| 2.0|           0.0|           1.0|    0.0|(1,[],[])|    (2,[],[])| (3,[0],[1.0])| (3,[1],[1.0])|(1,[0],[1.0])|\n",
            "| 50|      1|SelfEmployed|     Bachelor|      Married|  Male|      83311| <=50K| 1.0|           0.0|           0.0|    0.0|(1,[],[])|(2,[1],[1.0])| (3,[0],[1.0])| (3,[0],[1.0])|(1,[0],[1.0])|\n",
            "| 38|      1|  PrivateJob|     Bachelor|     Divorced|  Male|     215646| <=50K| 0.0|           0.0|           2.0|    0.0|(1,[],[])|(2,[0],[1.0])| (3,[0],[1.0])| (3,[2],[1.0])|(1,[0],[1.0])|\n",
            "| 53|      1|  PrivateJob|       School|      Married|  Male|     234721| <=50K| 0.0|           1.0|           0.0|    0.0|(1,[],[])|(2,[0],[1.0])| (3,[1],[1.0])| (3,[0],[1.0])|(1,[0],[1.0])|\n",
            "| 28|      1|  PrivateJob|     Bachelor|      Married|Female|     338409| <=50K| 0.0|           0.0|           0.0|    1.0|(1,[],[])|(2,[0],[1.0])| (3,[0],[1.0])| (3,[0],[1.0])|    (1,[],[])|\n",
            "| 37|      1|  PrivateJob|      Masters|      Married|Female|     284582| <=50K| 0.0|           2.0|           0.0|    1.0|(1,[],[])|(2,[0],[1.0])| (3,[2],[1.0])| (3,[0],[1.0])|    (1,[],[])|\n",
            "| 49|      1|  PrivateJob|       School|      Married|Female|     160187| <=50K| 0.0|           1.0|           0.0|    1.0|(1,[],[])|(2,[0],[1.0])| (3,[1],[1.0])| (3,[0],[1.0])|    (1,[],[])|\n",
            "| 52|      1|SelfEmployed|     Bachelor|      Married|  Male|     209642|  >50K| 1.0|           0.0|           0.0|    0.0|(1,[],[])|(2,[1],[1.0])| (3,[0],[1.0])| (3,[0],[1.0])|(1,[0],[1.0])|\n",
            "| 31|      1|  PrivateJob|      Masters|    UnMarried|Female|      45781|  >50K| 0.0|           2.0|           1.0|    1.0|(1,[],[])|(2,[0],[1.0])| (3,[2],[1.0])| (3,[1],[1.0])|    (1,[],[])|\n",
            "| 42|      1|  PrivateJob|     Bachelor|      Married|  Male|     159449|  >50K| 0.0|           0.0|           0.0|    0.0|(1,[],[])|(2,[0],[1.0])| (3,[0],[1.0])| (3,[0],[1.0])|(1,[0],[1.0])|\n",
            "| 37|      1|  PrivateJob|     Bachelor|      Married|  Male|     280464|  >50K| 0.0|           0.0|           0.0|    0.0|(1,[],[])|(2,[0],[1.0])| (3,[0],[1.0])| (3,[0],[1.0])|(1,[0],[1.0])|\n",
            "| 30|      1|     GovtJob|     Bachelor|      Married|  Male|     141297|  >50K| 2.0|           0.0|           0.0|    0.0|(1,[],[])|    (2,[],[])| (3,[0],[1.0])| (3,[0],[1.0])|(1,[0],[1.0])|\n",
            "| 23|      1|  PrivateJob|     Bachelor|    UnMarried|Female|     122272| <=50K| 0.0|           0.0|           1.0|    1.0|(1,[],[])|(2,[0],[1.0])| (3,[0],[1.0])| (3,[1],[1.0])|    (1,[],[])|\n",
            "| 32|      1|  PrivateJob|     Bachelor|    UnMarried|  Male|     205019| <=50K| 0.0|           0.0|           1.0|    0.0|(1,[],[])|(2,[0],[1.0])| (3,[0],[1.0])| (3,[1],[1.0])|(1,[0],[1.0])|\n",
            "| 40|      1|  PrivateJob|     Bachelor|      Married|  Male|     121772|  >50K| 0.0|           0.0|           0.0|    0.0|(1,[],[])|(2,[0],[1.0])| (3,[0],[1.0])| (3,[0],[1.0])|(1,[0],[1.0])|\n",
            "| 34|      1|  PrivateJob|       School|      Married|  Male|     245487| <=50K| 0.0|           1.0|           0.0|    0.0|(1,[],[])|(2,[0],[1.0])| (3,[1],[1.0])| (3,[0],[1.0])|(1,[0],[1.0])|\n",
            "| 25|      1|SelfEmployed|     Bachelor|    UnMarried|  Male|     176756| <=50K| 1.0|           0.0|           1.0|    0.0|(1,[],[])|(2,[1],[1.0])| (3,[0],[1.0])| (3,[1],[1.0])|(1,[0],[1.0])|\n",
            "| 32|      1|  PrivateJob|     Bachelor|    UnMarried|  Male|     186824| <=50K| 0.0|           0.0|           1.0|    0.0|(1,[],[])|(2,[0],[1.0])| (3,[0],[1.0])| (3,[1],[1.0])|(1,[0],[1.0])|\n",
            "| 38|      1|  PrivateJob|       School|      Married|  Male|      28887| <=50K| 0.0|           1.0|           0.0|    0.0|(1,[],[])|(2,[0],[1.0])| (3,[1],[1.0])| (3,[0],[1.0])|(1,[0],[1.0])|\n",
            "| 43|      1|SelfEmployed|      Masters|     Divorced|Female|     292175|  >50K| 1.0|           2.0|           2.0|    1.0|(1,[],[])|(2,[1],[1.0])| (3,[2],[1.0])| (3,[2],[1.0])|    (1,[],[])|\n",
            "+---+-------+------------+-------------+-------------+------+-----------+------+----+--------------+--------------+-------+---------+-------------+--------------+--------------+-------------+\n",
            "only showing top 20 rows\n",
            "\n"
          ]
        }
      ]
    },
    {
      "cell_type": "markdown",
      "source": [
        "# **Feature Scaling**"
      ],
      "metadata": {
        "id": "Og2cdg8-PWbn"
      }
    },
    {
      "cell_type": "code",
      "source": [
        "# standard scaler\n",
        "from pyspark.ml.feature import StandardScaler"
      ],
      "metadata": {
        "id": "1UFzO1ZMKymH"
      },
      "execution_count": null,
      "outputs": []
    },
    {
      "cell_type": "code",
      "source": [
        "from pyspark.ml.feature import MinMaxScaler\n",
        "from pyspark.ml.feature import RobustScaler"
      ],
      "metadata": {
        "id": "eAAWU_uCUP2M"
      },
      "execution_count": null,
      "outputs": []
    },
    {
      "cell_type": "code",
      "source": [
        "sdf.show()"
      ],
      "metadata": {
        "colab": {
          "base_uri": "https://localhost:8080/"
        },
        "id": "ZBLzsyt2Qqa5",
        "outputId": "b037ec79-01cf-485b-c41e-5dcabf00b578"
      },
      "execution_count": null,
      "outputs": [
        {
          "output_type": "stream",
          "name": "stdout",
          "text": [
            "+---+-------+------------+-------------+-------------+------+-----------+------+----+--------------+--------------+-------+\n",
            "|Age|IsAdult|         Job|Qualification|MaritalStatus|Gender|BankBalance|Salary|iJob|iQualification|iMaritalStatus|iGender|\n",
            "+---+-------+------------+-------------+-------------+------+-----------+------+----+--------------+--------------+-------+\n",
            "| 39|      1|     GovtJob|     Bachelor|    UnMarried|  Male|      77516| <=50K| 2.0|           0.0|           1.0|    0.0|\n",
            "| 50|      1|SelfEmployed|     Bachelor|      Married|  Male|      83311| <=50K| 1.0|           0.0|           0.0|    0.0|\n",
            "| 38|      1|  PrivateJob|     Bachelor|     Divorced|  Male|     215646| <=50K| 0.0|           0.0|           2.0|    0.0|\n",
            "| 53|      1|  PrivateJob|       School|      Married|  Male|     234721| <=50K| 0.0|           1.0|           0.0|    0.0|\n",
            "| 28|      1|  PrivateJob|     Bachelor|      Married|Female|     338409| <=50K| 0.0|           0.0|           0.0|    1.0|\n",
            "| 37|      1|  PrivateJob|      Masters|      Married|Female|     284582| <=50K| 0.0|           2.0|           0.0|    1.0|\n",
            "| 49|      1|  PrivateJob|       School|      Married|Female|     160187| <=50K| 0.0|           1.0|           0.0|    1.0|\n",
            "| 52|      1|SelfEmployed|     Bachelor|      Married|  Male|     209642|  >50K| 1.0|           0.0|           0.0|    0.0|\n",
            "| 31|      1|  PrivateJob|      Masters|    UnMarried|Female|      45781|  >50K| 0.0|           2.0|           1.0|    1.0|\n",
            "| 42|      1|  PrivateJob|     Bachelor|      Married|  Male|     159449|  >50K| 0.0|           0.0|           0.0|    0.0|\n",
            "| 37|      1|  PrivateJob|     Bachelor|      Married|  Male|     280464|  >50K| 0.0|           0.0|           0.0|    0.0|\n",
            "| 30|      1|     GovtJob|     Bachelor|      Married|  Male|     141297|  >50K| 2.0|           0.0|           0.0|    0.0|\n",
            "| 23|      1|  PrivateJob|     Bachelor|    UnMarried|Female|     122272| <=50K| 0.0|           0.0|           1.0|    1.0|\n",
            "| 32|      1|  PrivateJob|     Bachelor|    UnMarried|  Male|     205019| <=50K| 0.0|           0.0|           1.0|    0.0|\n",
            "| 40|      1|  PrivateJob|     Bachelor|      Married|  Male|     121772|  >50K| 0.0|           0.0|           0.0|    0.0|\n",
            "| 34|      1|  PrivateJob|       School|      Married|  Male|     245487| <=50K| 0.0|           1.0|           0.0|    0.0|\n",
            "| 25|      1|SelfEmployed|     Bachelor|    UnMarried|  Male|     176756| <=50K| 1.0|           0.0|           1.0|    0.0|\n",
            "| 32|      1|  PrivateJob|     Bachelor|    UnMarried|  Male|     186824| <=50K| 0.0|           0.0|           1.0|    0.0|\n",
            "| 38|      1|  PrivateJob|       School|      Married|  Male|      28887| <=50K| 0.0|           1.0|           0.0|    0.0|\n",
            "| 43|      1|SelfEmployed|      Masters|     Divorced|Female|     292175|  >50K| 1.0|           2.0|           2.0|    1.0|\n",
            "+---+-------+------------+-------------+-------------+------+-----------+------+----+--------------+--------------+-------+\n",
            "only showing top 20 rows\n",
            "\n"
          ]
        }
      ]
    },
    {
      "cell_type": "code",
      "source": [
        "from pyspark.ml.feature import VectorAssembler"
      ],
      "metadata": {
        "id": "qdUKJMbRROWw"
      },
      "execution_count": null,
      "outputs": []
    },
    {
      "cell_type": "code",
      "source": [
        "va = VectorAssembler(inputCols=['Age','BankBalance'], outputCol='numVector')"
      ],
      "metadata": {
        "id": "dpj6IBYERTv6"
      },
      "execution_count": null,
      "outputs": []
    },
    {
      "cell_type": "code",
      "source": [
        "sdf = va.transform(sdf)"
      ],
      "metadata": {
        "id": "Ny0VogAuRT10"
      },
      "execution_count": null,
      "outputs": []
    },
    {
      "cell_type": "code",
      "source": [
        "sdf.show()"
      ],
      "metadata": {
        "colab": {
          "base_uri": "https://localhost:8080/"
        },
        "id": "HJk-sRsqR5kt",
        "outputId": "029101bf-bddb-4045-be08-8a3a0a22deda"
      },
      "execution_count": null,
      "outputs": [
        {
          "output_type": "stream",
          "name": "stdout",
          "text": [
            "+---+-------+------------+-------------+-------------+------+-----------+------+----+--------------+--------------+-------+---------------+\n",
            "|Age|IsAdult|         Job|Qualification|MaritalStatus|Gender|BankBalance|Salary|iJob|iQualification|iMaritalStatus|iGender|      numVector|\n",
            "+---+-------+------------+-------------+-------------+------+-----------+------+----+--------------+--------------+-------+---------------+\n",
            "| 39|      1|     GovtJob|     Bachelor|    UnMarried|  Male|      77516| <=50K| 2.0|           0.0|           1.0|    0.0| [39.0,77516.0]|\n",
            "| 50|      1|SelfEmployed|     Bachelor|      Married|  Male|      83311| <=50K| 1.0|           0.0|           0.0|    0.0| [50.0,83311.0]|\n",
            "| 38|      1|  PrivateJob|     Bachelor|     Divorced|  Male|     215646| <=50K| 0.0|           0.0|           2.0|    0.0|[38.0,215646.0]|\n",
            "| 53|      1|  PrivateJob|       School|      Married|  Male|     234721| <=50K| 0.0|           1.0|           0.0|    0.0|[53.0,234721.0]|\n",
            "| 28|      1|  PrivateJob|     Bachelor|      Married|Female|     338409| <=50K| 0.0|           0.0|           0.0|    1.0|[28.0,338409.0]|\n",
            "| 37|      1|  PrivateJob|      Masters|      Married|Female|     284582| <=50K| 0.0|           2.0|           0.0|    1.0|[37.0,284582.0]|\n",
            "| 49|      1|  PrivateJob|       School|      Married|Female|     160187| <=50K| 0.0|           1.0|           0.0|    1.0|[49.0,160187.0]|\n",
            "| 52|      1|SelfEmployed|     Bachelor|      Married|  Male|     209642|  >50K| 1.0|           0.0|           0.0|    0.0|[52.0,209642.0]|\n",
            "| 31|      1|  PrivateJob|      Masters|    UnMarried|Female|      45781|  >50K| 0.0|           2.0|           1.0|    1.0| [31.0,45781.0]|\n",
            "| 42|      1|  PrivateJob|     Bachelor|      Married|  Male|     159449|  >50K| 0.0|           0.0|           0.0|    0.0|[42.0,159449.0]|\n",
            "| 37|      1|  PrivateJob|     Bachelor|      Married|  Male|     280464|  >50K| 0.0|           0.0|           0.0|    0.0|[37.0,280464.0]|\n",
            "| 30|      1|     GovtJob|     Bachelor|      Married|  Male|     141297|  >50K| 2.0|           0.0|           0.0|    0.0|[30.0,141297.0]|\n",
            "| 23|      1|  PrivateJob|     Bachelor|    UnMarried|Female|     122272| <=50K| 0.0|           0.0|           1.0|    1.0|[23.0,122272.0]|\n",
            "| 32|      1|  PrivateJob|     Bachelor|    UnMarried|  Male|     205019| <=50K| 0.0|           0.0|           1.0|    0.0|[32.0,205019.0]|\n",
            "| 40|      1|  PrivateJob|     Bachelor|      Married|  Male|     121772|  >50K| 0.0|           0.0|           0.0|    0.0|[40.0,121772.0]|\n",
            "| 34|      1|  PrivateJob|       School|      Married|  Male|     245487| <=50K| 0.0|           1.0|           0.0|    0.0|[34.0,245487.0]|\n",
            "| 25|      1|SelfEmployed|     Bachelor|    UnMarried|  Male|     176756| <=50K| 1.0|           0.0|           1.0|    0.0|[25.0,176756.0]|\n",
            "| 32|      1|  PrivateJob|     Bachelor|    UnMarried|  Male|     186824| <=50K| 0.0|           0.0|           1.0|    0.0|[32.0,186824.0]|\n",
            "| 38|      1|  PrivateJob|       School|      Married|  Male|      28887| <=50K| 0.0|           1.0|           0.0|    0.0| [38.0,28887.0]|\n",
            "| 43|      1|SelfEmployed|      Masters|     Divorced|Female|     292175|  >50K| 1.0|           2.0|           2.0|    1.0|[43.0,292175.0]|\n",
            "+---+-------+------------+-------------+-------------+------+-----------+------+----+--------------+--------------+-------+---------------+\n",
            "only showing top 20 rows\n",
            "\n"
          ]
        }
      ]
    },
    {
      "cell_type": "code",
      "source": [
        "ss = StandardScaler(inputCol='numVector', outputCol= 'snumVector')"
      ],
      "metadata": {
        "id": "JBke08miKypT"
      },
      "execution_count": null,
      "outputs": []
    },
    {
      "cell_type": "code",
      "source": [
        "sdf = ss.fit(sdf).transform(sdf)"
      ],
      "metadata": {
        "id": "WwXgK6KFKysN"
      },
      "execution_count": null,
      "outputs": []
    },
    {
      "cell_type": "code",
      "source": [
        "sdf.select(['numVector','snumVector']).show(truncate=False)"
      ],
      "metadata": {
        "colab": {
          "base_uri": "https://localhost:8080/"
        },
        "id": "OD50nCbzKyvV",
        "outputId": "38245df5-adb6-435a-a41d-1829729e7c0d"
      },
      "execution_count": null,
      "outputs": [
        {
          "output_type": "stream",
          "name": "stdout",
          "text": [
            "+---------------+----------------------------------------+\n",
            "|numVector      |snumVector                              |\n",
            "+---------------+----------------------------------------+\n",
            "|[39.0,77516.0] |[2.8591468669928934,0.7344009131153691] |\n",
            "|[50.0,83311.0] |[3.6655729064011453,0.7893038143422586] |\n",
            "|[38.0,215646.0]|[2.7858354088648705,2.043070066949751]  |\n",
            "|[53.0,234721.0]|[3.8855072807852142,2.223790143033084]  |\n",
            "|[28.0,338409.0]|[2.0527208275846416,3.2061494221381257] |\n",
            "|[37.0,284582.0]|[2.7125239507368475,2.696182474020821]  |\n",
            "|[49.0,160187.0]|[3.5922614482731223,1.5176412491512932] |\n",
            "|[52.0,209642.0]|[3.8121958226571913,1.9861870610884491] |\n",
            "|[31.0,45781.0] |[2.27265520196871,0.43373765678485365]  |\n",
            "|[42.0,159449.0]|[3.079081241376962,1.510649300729301]   |\n",
            "|[37.0,280464.0]|[2.7125239507368475,2.6571677807934995] |\n",
            "|[30.0,141297.0]|[2.199343743840687,1.3386738972658847]  |\n",
            "|[23.0,122272.0]|[1.686163536944527,1.1584275304252336]  |\n",
            "|[32.0,205019.0]|[2.345966660096733,1.942387904510035]   |\n",
            "|[40.0,121772.0]|[2.9324583251209164,1.1536904379984099] |\n",
            "|[34.0,245487.0]|[2.492589576352779,2.3257892171674572]  |\n",
            "|[25.0,176756.0]|[1.8327864532005727,1.674619017991385]  |\n",
            "|[32.0,186824.0]|[2.345966660096733,1.7700051110979118]  |\n",
            "|[38.0,28887.0] |[2.7858354088648705,0.27368077786732636]|\n",
            "|[43.0,292175.0]|[3.152392699504985,2.7681199596145696]  |\n",
            "+---------------+----------------------------------------+\n",
            "only showing top 20 rows\n",
            "\n"
          ]
        }
      ]
    },
    {
      "cell_type": "code",
      "source": [],
      "metadata": {
        "id": "kuRmyrSHKyyr"
      },
      "execution_count": null,
      "outputs": []
    },
    {
      "cell_type": "code",
      "source": [],
      "metadata": {
        "id": "pr0-dIK0Ky28"
      },
      "execution_count": null,
      "outputs": []
    },
    {
      "cell_type": "code",
      "source": [],
      "metadata": {
        "id": "cY-uvxBgKy8m"
      },
      "execution_count": null,
      "outputs": []
    },
    {
      "cell_type": "code",
      "source": [],
      "metadata": {
        "id": "ac0eKmG5KzBG"
      },
      "execution_count": null,
      "outputs": []
    },
    {
      "cell_type": "code",
      "source": [],
      "metadata": {
        "id": "8yF6StFjJg5y"
      },
      "execution_count": null,
      "outputs": []
    },
    {
      "cell_type": "code",
      "source": [
        "!pip install pyspark"
      ],
      "metadata": {
        "colab": {
          "base_uri": "https://localhost:8080/"
        },
        "id": "o3_1q9m4dDTt",
        "outputId": "d9d4361a-5380-4b32-d74b-2ca090f05737"
      },
      "execution_count": null,
      "outputs": [
        {
          "output_type": "stream",
          "name": "stdout",
          "text": [
            "Collecting pyspark\n",
            "  Downloading pyspark-3.5.0.tar.gz (316.9 MB)\n",
            "\u001b[2K     \u001b[90m━━━━━━━━━━━━━━━━━━━━━━━━━━━━━━━━━━━━━━━━\u001b[0m \u001b[32m316.9/316.9 MB\u001b[0m \u001b[31m4.4 MB/s\u001b[0m eta \u001b[36m0:00:00\u001b[0m\n",
            "\u001b[?25h  Preparing metadata (setup.py) ... \u001b[?25l\u001b[?25hdone\n",
            "Requirement already satisfied: py4j==0.10.9.7 in /usr/local/lib/python3.10/dist-packages (from pyspark) (0.10.9.7)\n",
            "Building wheels for collected packages: pyspark\n",
            "  Building wheel for pyspark (setup.py) ... \u001b[?25l\u001b[?25hdone\n",
            "  Created wheel for pyspark: filename=pyspark-3.5.0-py2.py3-none-any.whl size=317425345 sha256=a8db8d26b6d35397ac79ebe06bfd462c0e30599462b6fdfe6c4c1d11bd1f0a4d\n",
            "  Stored in directory: /root/.cache/pip/wheels/41/4e/10/c2cf2467f71c678cfc8a6b9ac9241e5e44a01940da8fbb17fc\n",
            "Successfully built pyspark\n",
            "Installing collected packages: pyspark\n",
            "Successfully installed pyspark-3.5.0\n"
          ]
        }
      ]
    },
    {
      "cell_type": "code",
      "source": [
        "import pyspark"
      ],
      "metadata": {
        "id": "GsXG4unjdDZ1"
      },
      "execution_count": null,
      "outputs": []
    },
    {
      "cell_type": "code",
      "source": [
        "from pyspark.sql import SparkSession"
      ],
      "metadata": {
        "id": "AF0QGj4FdDfP"
      },
      "execution_count": null,
      "outputs": []
    },
    {
      "cell_type": "code",
      "source": [
        "spark = SparkSession.builder.getOrCreate()"
      ],
      "metadata": {
        "id": "b9ZSbmfddZiZ"
      },
      "execution_count": null,
      "outputs": []
    },
    {
      "cell_type": "code",
      "source": [
        "sdf = spark.read.csv('/content/EcommerceCustomer.csv',header=True,inferSchema=True)"
      ],
      "metadata": {
        "id": "XEGWYNgVdePl"
      },
      "execution_count": null,
      "outputs": []
    },
    {
      "cell_type": "code",
      "source": [
        "sdf.show()"
      ],
      "metadata": {
        "colab": {
          "base_uri": "https://localhost:8080/"
        },
        "id": "w7_LiEULdlg6",
        "outputId": "6f42fe6b-d160-4808-bb17-cd08ca6bf93f"
      },
      "execution_count": null,
      "outputs": [
        {
          "output_type": "stream",
          "name": "stdout",
          "text": [
            "+---------+----------------+---------+-------------+------------------+-----------------+\n",
            "|CustomeID|AvgSessionLength|TimeOnApp|TimeOnWebsite|LengthOfMembership|YearlyAmountSpent|\n",
            "+---------+----------------+---------+-------------+------------------+-----------------+\n",
            "|        1|            34.5|    12.66|        39.58|              4.08|           587.95|\n",
            "|        2|           31.93|    11.11|        37.27|              2.66|            392.2|\n",
            "|        3|            33.0|    11.33|        37.11|               4.1|           487.55|\n",
            "|        4|           34.31|    13.72|        36.72|              3.12|           581.85|\n",
            "|        5|           33.33|     12.8|        37.54|              4.45|           599.41|\n",
            "|        6|           33.87|    12.03|        34.48|              5.49|            637.1|\n",
            "|        7|           32.02|    11.37|        36.68|              4.69|           521.57|\n",
            "|        8|           32.74|    12.35|        37.37|              4.43|            549.9|\n",
            "|        9|           33.99|    13.39|        37.53|              3.27|            570.2|\n",
            "|       10|           31.94|    11.81|        37.15|               3.2|            427.2|\n",
            "|       11|           33.99|    13.34|        37.23|              2.48|           492.61|\n",
            "|       12|           33.88|    11.58|        37.09|              3.71|           522.34|\n",
            "|       13|           29.53|    10.96|        37.42|              4.05|           408.64|\n",
            "|       14|           33.19|    12.96|        36.14|              3.92|           573.42|\n",
            "|       15|           32.39|    13.15|        36.62|              2.49|           470.45|\n",
            "|       16|           30.74|    12.64|        36.21|              3.36|           461.78|\n",
            "|       17|           32.13|    11.73|        34.89|              3.14|           457.85|\n",
            "|       18|           32.34|    12.01|        38.39|              2.42|            407.7|\n",
            "|       19|           32.19|    14.72|        38.24|              1.52|           452.32|\n",
            "|       20|           32.62|    13.99|        37.19|              4.06|           605.06|\n",
            "+---------+----------------+---------+-------------+------------------+-----------------+\n",
            "only showing top 20 rows\n",
            "\n"
          ]
        }
      ]
    },
    {
      "cell_type": "code",
      "source": [
        "sdf.columns"
      ],
      "metadata": {
        "colab": {
          "base_uri": "https://localhost:8080/"
        },
        "id": "LbNaSp2ndms2",
        "outputId": "c611c190-81f9-451f-8dc1-685fe04b3dd5"
      },
      "execution_count": null,
      "outputs": [
        {
          "output_type": "execute_result",
          "data": {
            "text/plain": [
              "['CustomeID',\n",
              " 'AvgSessionLength',\n",
              " 'TimeOnApp',\n",
              " 'TimeOnWebsite',\n",
              " 'LengthOfMembership',\n",
              " 'YearlyAmountSpent']"
            ]
          },
          "metadata": {},
          "execution_count": 10
        }
      ]
    },
    {
      "cell_type": "code",
      "source": [
        "from pyspark.ml.feature import VectorAssembler"
      ],
      "metadata": {
        "id": "VcY3cCRmdyhc"
      },
      "execution_count": null,
      "outputs": []
    },
    {
      "cell_type": "code",
      "source": [
        "va = VectorAssembler(inputCols=['AvgSessionLength',\n",
        " 'TimeOnApp',\n",
        " 'TimeOnWebsite',\n",
        " 'LengthOfMembership'], outputCol='X')"
      ],
      "metadata": {
        "id": "33W4ur2teOrN"
      },
      "execution_count": null,
      "outputs": []
    },
    {
      "cell_type": "code",
      "source": [
        "sdf = va.transform(sdf)"
      ],
      "metadata": {
        "id": "E4MLX8IdeYzy"
      },
      "execution_count": null,
      "outputs": []
    },
    {
      "cell_type": "code",
      "source": [
        "sdf.show()"
      ],
      "metadata": {
        "colab": {
          "base_uri": "https://localhost:8080/"
        },
        "id": "UTV0Ps8Oefmz",
        "outputId": "30c00dda-9be3-4d4d-8216-c57876fd82b8"
      },
      "execution_count": null,
      "outputs": [
        {
          "output_type": "stream",
          "name": "stdout",
          "text": [
            "+---------+----------------+---------+-------------+------------------+-----------------+--------------------+\n",
            "|CustomeID|AvgSessionLength|TimeOnApp|TimeOnWebsite|LengthOfMembership|YearlyAmountSpent|                   X|\n",
            "+---------+----------------+---------+-------------+------------------+-----------------+--------------------+\n",
            "|        1|            34.5|    12.66|        39.58|              4.08|           587.95|[34.5,12.66,39.58...|\n",
            "|        2|           31.93|    11.11|        37.27|              2.66|            392.2|[31.93,11.11,37.2...|\n",
            "|        3|            33.0|    11.33|        37.11|               4.1|           487.55|[33.0,11.33,37.11...|\n",
            "|        4|           34.31|    13.72|        36.72|              3.12|           581.85|[34.31,13.72,36.7...|\n",
            "|        5|           33.33|     12.8|        37.54|              4.45|           599.41|[33.33,12.8,37.54...|\n",
            "|        6|           33.87|    12.03|        34.48|              5.49|            637.1|[33.87,12.03,34.4...|\n",
            "|        7|           32.02|    11.37|        36.68|              4.69|           521.57|[32.02,11.37,36.6...|\n",
            "|        8|           32.74|    12.35|        37.37|              4.43|            549.9|[32.74,12.35,37.3...|\n",
            "|        9|           33.99|    13.39|        37.53|              3.27|            570.2|[33.99,13.39,37.5...|\n",
            "|       10|           31.94|    11.81|        37.15|               3.2|            427.2|[31.94,11.81,37.1...|\n",
            "|       11|           33.99|    13.34|        37.23|              2.48|           492.61|[33.99,13.34,37.2...|\n",
            "|       12|           33.88|    11.58|        37.09|              3.71|           522.34|[33.88,11.58,37.0...|\n",
            "|       13|           29.53|    10.96|        37.42|              4.05|           408.64|[29.53,10.96,37.4...|\n",
            "|       14|           33.19|    12.96|        36.14|              3.92|           573.42|[33.19,12.96,36.1...|\n",
            "|       15|           32.39|    13.15|        36.62|              2.49|           470.45|[32.39,13.15,36.6...|\n",
            "|       16|           30.74|    12.64|        36.21|              3.36|           461.78|[30.74,12.64,36.2...|\n",
            "|       17|           32.13|    11.73|        34.89|              3.14|           457.85|[32.13,11.73,34.8...|\n",
            "|       18|           32.34|    12.01|        38.39|              2.42|            407.7|[32.34,12.01,38.3...|\n",
            "|       19|           32.19|    14.72|        38.24|              1.52|           452.32|[32.19,14.72,38.2...|\n",
            "|       20|           32.62|    13.99|        37.19|              4.06|           605.06|[32.62,13.99,37.1...|\n",
            "+---------+----------------+---------+-------------+------------------+-----------------+--------------------+\n",
            "only showing top 20 rows\n",
            "\n"
          ]
        }
      ]
    },
    {
      "cell_type": "code",
      "source": [
        "from pyspark.ml.feature import StandardScaler"
      ],
      "metadata": {
        "id": "qCEZ5YELejF7"
      },
      "execution_count": null,
      "outputs": []
    },
    {
      "cell_type": "code",
      "source": [
        "ss = StandardScaler(inputCol='X', outputCol='sX', withMean=True)"
      ],
      "metadata": {
        "id": "SzidamhjeqKH"
      },
      "execution_count": null,
      "outputs": []
    },
    {
      "cell_type": "code",
      "source": [
        "sdf = ss.fit(sdf).transform(sdf)"
      ],
      "metadata": {
        "id": "Hfoa8h_Ge2GF"
      },
      "execution_count": null,
      "outputs": []
    },
    {
      "cell_type": "code",
      "source": [
        "sdf.show()"
      ],
      "metadata": {
        "colab": {
          "base_uri": "https://localhost:8080/"
        },
        "id": "zQjLI7Q2fZhP",
        "outputId": "4bcb24d6-6f07-4671-fe20-89c85ed87282"
      },
      "execution_count": null,
      "outputs": [
        {
          "output_type": "stream",
          "name": "stdout",
          "text": [
            "+---------+----------------+---------+-------------+------------------+-----------------+--------------------+--------------------+\n",
            "|CustomeID|AvgSessionLength|TimeOnApp|TimeOnWebsite|LengthOfMembership|YearlyAmountSpent|                   X|                  sX|\n",
            "+---------+----------------+---------+-------------+------------------+-----------------+--------------------+--------------------+\n",
            "|        1|            34.5|    12.66|        39.58|              4.08|           587.95|[34.5,12.66,39.58...|[1.45757347554559...|\n",
            "|        2|           31.93|    11.11|        37.27|              2.66|            392.2|[31.93,11.11,37.2...|[-1.1318143779598...|\n",
            "|        3|            33.0|    11.33|        37.11|               4.1|           487.55|[33.0,11.33,37.11...|[-0.0537423922591...|\n",
            "|        4|           34.31|    13.72|        36.72|              3.12|           581.85|[34.31,13.72,36.7...|[1.26614013229032...|\n",
            "|        5|           33.33|     12.8|        37.54|              4.45|           599.41|[33.33,12.8,37.54...|[0.27874709865789...|\n",
            "|        6|           33.87|    12.03|        34.48|              5.49|            637.1|[33.87,12.03,34.4...|[0.82282081106760...|\n",
            "|        7|           32.02|    11.37|        36.68|              4.69|           521.57|[32.02,11.37,36.6...|[-1.0411354258915...|\n",
            "|        8|           32.74|    12.35|        37.37|              4.43|            549.9|[32.74,12.35,37.3...|[-0.3157038093452...|\n",
            "|        9|           33.99|    13.39|        37.53|              3.27|            570.2|[33.99,13.39,37.5...|[0.94372608049198...|\n",
            "|       10|           31.94|    11.81|        37.15|               3.2|            427.2|[31.94,11.81,37.1...|[-1.1217389388411...|\n",
            "|       11|           33.99|    13.34|        37.23|              2.48|           492.61|[33.99,13.34,37.2...|[0.94372608049198...|\n",
            "|       12|           33.88|    11.58|        37.09|              3.71|           522.34|[33.88,11.58,37.0...|[0.83289625018630...|\n",
            "|       13|           29.53|    10.96|        37.42|              4.05|           408.64|[29.53,10.96,37.4...|[-3.5499197664474...|\n",
            "|       14|           33.19|    12.96|        36.14|              3.92|           573.42|[33.19,12.96,36.1...|[0.13769095099612...|\n",
            "|       15|           32.39|    13.15|        36.62|              2.49|           470.45|[32.39,13.15,36.6...|[-0.6683441784997...|\n",
            "|       16|           30.74|    12.64|        36.21|              3.36|           461.78|[30.74,12.64,36.2...|[-2.3307916330849...|\n",
            "|       17|           32.13|    11.73|        34.89|              3.14|           457.85|[32.13,11.73,34.8...|[-0.9303055955858...|\n",
            "|       18|           32.34|    12.01|        38.39|              2.42|            407.7|[32.34,12.01,38.3...|[-0.7187213740932...|\n",
            "|       19|           32.19|    14.72|        38.24|              1.52|           452.32|[32.19,14.72,38.2...|[-0.8698529608737...|\n",
            "|       20|           32.62|    13.99|        37.19|              4.06|           605.06|[32.62,13.99,37.1...|[-0.4366090787696...|\n",
            "+---------+----------------+---------+-------------+------------------+-----------------+--------------------+--------------------+\n",
            "only showing top 20 rows\n",
            "\n"
          ]
        }
      ]
    },
    {
      "cell_type": "code",
      "source": [
        "data = sdf.select(['sX','YearlyAmountSpent'])"
      ],
      "metadata": {
        "id": "Q0YsJZv-gbpj"
      },
      "execution_count": null,
      "outputs": []
    },
    {
      "cell_type": "code",
      "source": [
        "train, test = data.randomSplit([0.7,0.3],seed=2529)"
      ],
      "metadata": {
        "id": "I18sjuAQgqI8"
      },
      "execution_count": null,
      "outputs": []
    },
    {
      "cell_type": "code",
      "source": [
        "from pyspark.ml.regression import LinearRegression"
      ],
      "metadata": {
        "id": "q3_J3PGBf0C7"
      },
      "execution_count": null,
      "outputs": []
    },
    {
      "cell_type": "code",
      "source": [
        "lr = LinearRegression(featuresCol='sX', labelCol='YearlyAmountSpent')"
      ],
      "metadata": {
        "id": "1bC1iY9rgZVY"
      },
      "execution_count": null,
      "outputs": []
    },
    {
      "cell_type": "code",
      "source": [
        "lr.fit(train).intercept"
      ],
      "metadata": {
        "colab": {
          "base_uri": "https://localhost:8080/"
        },
        "id": "v2E415pBhLIx",
        "outputId": "af495e61-3ad6-480c-8eb7-a4b724e25130"
      },
      "execution_count": null,
      "outputs": [
        {
          "output_type": "execute_result",
          "data": {
            "text/plain": [
              "499.12008835525825"
            ]
          },
          "metadata": {},
          "execution_count": 32
        }
      ]
    },
    {
      "cell_type": "code",
      "source": [
        "lr.fit(train).coefficients"
      ],
      "metadata": {
        "colab": {
          "base_uri": "https://localhost:8080/"
        },
        "id": "rqtBsLBXhLOJ",
        "outputId": "f11717e9-06e6-4df5-f2ad-0f2964a811f8"
      },
      "execution_count": null,
      "outputs": [
        {
          "output_type": "execute_result",
          "data": {
            "text/plain": [
              "DenseVector([25.1773, 38.2636, 0.4322, 61.5188])"
            ]
          },
          "metadata": {},
          "execution_count": 33
        }
      ]
    },
    {
      "cell_type": "code",
      "source": [
        "lr.fit(train).summary.rootMeanSquaredError"
      ],
      "metadata": {
        "colab": {
          "base_uri": "https://localhost:8080/"
        },
        "id": "6LVyfmBFg3lL",
        "outputId": "367f73cd-e6c9-42f5-eced-62dbecec11ee"
      },
      "execution_count": null,
      "outputs": [
        {
          "output_type": "execute_result",
          "data": {
            "text/plain": [
              "10.269862207704525"
            ]
          },
          "metadata": {},
          "execution_count": 31
        }
      ]
    },
    {
      "cell_type": "code",
      "source": [
        "lr.fit(train).transform(test).show()"
      ],
      "metadata": {
        "colab": {
          "base_uri": "https://localhost:8080/",
          "height": 1000
        },
        "id": "2jN5CrQBg7g6",
        "outputId": "27638c8d-a63a-4059-e2c4-d31c25836067"
      },
      "execution_count": null,
      "outputs": [
        {
          "output_type": "error",
          "ename": "Py4JJavaError",
          "evalue": "An error occurred while calling o372.fit.\n: java.lang.IllegalStateException: Cannot call methods on a stopped SparkContext.\nThis stopped SparkContext was created at:\n\norg.apache.spark.api.java.JavaSparkContext.<init>(JavaSparkContext.scala:58)\njava.base/jdk.internal.reflect.NativeConstructorAccessorImpl.newInstance0(Native Method)\njava.base/jdk.internal.reflect.NativeConstructorAccessorImpl.newInstance(NativeConstructorAccessorImpl.java:62)\njava.base/jdk.internal.reflect.DelegatingConstructorAccessorImpl.newInstance(DelegatingConstructorAccessorImpl.java:45)\njava.base/java.lang.reflect.Constructor.newInstance(Constructor.java:490)\npy4j.reflection.MethodInvoker.invoke(MethodInvoker.java:247)\npy4j.reflection.ReflectionEngine.invoke(ReflectionEngine.java:374)\npy4j.Gateway.invoke(Gateway.java:238)\npy4j.commands.ConstructorCommand.invokeConstructor(ConstructorCommand.java:80)\npy4j.commands.ConstructorCommand.execute(ConstructorCommand.java:69)\npy4j.ClientServerConnection.waitForCommands(ClientServerConnection.java:182)\npy4j.ClientServerConnection.run(ClientServerConnection.java:106)\njava.base/java.lang.Thread.run(Thread.java:829)\n\nThe currently active SparkContext was created at:\n\norg.apache.spark.api.java.JavaSparkContext.<init>(JavaSparkContext.scala:58)\njava.base/jdk.internal.reflect.NativeConstructorAccessorImpl.newInstance0(Native Method)\njava.base/jdk.internal.reflect.NativeConstructorAccessorImpl.newInstance(NativeConstructorAccessorImpl.java:62)\njava.base/jdk.internal.reflect.DelegatingConstructorAccessorImpl.newInstance(DelegatingConstructorAccessorImpl.java:45)\njava.base/java.lang.reflect.Constructor.newInstance(Constructor.java:490)\npy4j.reflection.MethodInvoker.invoke(MethodInvoker.java:247)\npy4j.reflection.ReflectionEngine.invoke(ReflectionEngine.java:374)\npy4j.Gateway.invoke(Gateway.java:238)\npy4j.commands.ConstructorCommand.invokeConstructor(ConstructorCommand.java:80)\npy4j.commands.ConstructorCommand.execute(ConstructorCommand.java:69)\npy4j.ClientServerConnection.waitForCommands(ClientServerConnection.java:182)\npy4j.ClientServerConnection.run(ClientServerConnection.java:106)\njava.base/java.lang.Thread.run(Thread.java:829)\n         \n\tat org.apache.spark.SparkContext.assertNotStopped(SparkContext.scala:122)\n\tat org.apache.spark.SparkContext.broadcastInternal(SparkContext.scala:1659)\n\tat org.apache.spark.SparkContext.broadcast(SparkContext.scala:1644)\n\tat org.apache.spark.sql.execution.datasources.csv.CSVFileFormat.buildReader(CSVFileFormat.scala:102)\n\tat org.apache.spark.sql.execution.datasources.FileFormat.buildReaderWithPartitionValues(FileFormat.scala:138)\n\tat org.apache.spark.sql.execution.datasources.FileFormat.buildReaderWithPartitionValues$(FileFormat.scala:129)\n\tat org.apache.spark.sql.execution.datasources.TextBasedFileFormat.buildReaderWithPartitionValues(FileFormat.scala:346)\n\tat org.apache.spark.sql.execution.FileSourceScanExec.inputRDD$lzycompute(DataSourceScanExec.scala:548)\n\tat org.apache.spark.sql.execution.FileSourceScanExec.inputRDD(DataSourceScanExec.scala:537)\n\tat org.apache.spark.sql.execution.FileSourceScanExec.doExecute(DataSourceScanExec.scala:575)\n\tat org.apache.spark.sql.execution.SparkPlan.$anonfun$execute$1(SparkPlan.scala:195)\n\tat org.apache.spark.sql.execution.SparkPlan.$anonfun$executeQuery$1(SparkPlan.scala:246)\n\tat org.apache.spark.rdd.RDDOperationScope$.withScope(RDDOperationScope.scala:151)\n\tat org.apache.spark.sql.execution.SparkPlan.executeQuery(SparkPlan.scala:243)\n\tat org.apache.spark.sql.execution.SparkPlan.execute(SparkPlan.scala:191)\n\tat org.apache.spark.sql.execution.InputAdapter.inputRDD(WholeStageCodegenExec.scala:527)\n\tat org.apache.spark.sql.execution.InputRDDCodegen.inputRDDs(WholeStageCodegenExec.scala:455)\n\tat org.apache.spark.sql.execution.InputRDDCodegen.inputRDDs$(WholeStageCodegenExec.scala:454)\n\tat org.apache.spark.sql.execution.InputAdapter.inputRDDs(WholeStageCodegenExec.scala:498)\n\tat org.apache.spark.sql.execution.ProjectExec.inputRDDs(basicPhysicalOperators.scala:51)\n\tat org.apache.spark.sql.execution.ProjectExec.inputRDDs(basicPhysicalOperators.scala:51)\n\tat org.apache.spark.sql.execution.SortExec.inputRDDs(SortExec.scala:132)\n\tat org.apache.spark.sql.execution.SampleExec.inputRDDs(basicPhysicalOperators.scala:345)\n\tat org.apache.spark.sql.execution.WholeStageCodegenExec.doExecute(WholeStageCodegenExec.scala:751)\n\tat org.apache.spark.sql.execution.SparkPlan.$anonfun$execute$1(SparkPlan.scala:195)\n\tat org.apache.spark.sql.execution.SparkPlan.$anonfun$executeQuery$1(SparkPlan.scala:246)\n\tat org.apache.spark.rdd.RDDOperationScope$.withScope(RDDOperationScope.scala:151)\n\tat org.apache.spark.sql.execution.SparkPlan.executeQuery(SparkPlan.scala:243)\n\tat org.apache.spark.sql.execution.SparkPlan.execute(SparkPlan.scala:191)\n\tat org.apache.spark.sql.execution.DeserializeToObjectExec.doExecute(objects.scala:93)\n\tat org.apache.spark.sql.execution.SparkPlan.$anonfun$execute$1(SparkPlan.scala:195)\n\tat org.apache.spark.sql.execution.SparkPlan.$anonfun$executeQuery$1(SparkPlan.scala:246)\n\tat org.apache.spark.rdd.RDDOperationScope$.withScope(RDDOperationScope.scala:151)\n\tat org.apache.spark.sql.execution.SparkPlan.executeQuery(SparkPlan.scala:243)\n\tat org.apache.spark.sql.execution.SparkPlan.execute(SparkPlan.scala:191)\n\tat org.apache.spark.sql.execution.QueryExecution.toRdd$lzycompute(QueryExecution.scala:207)\n\tat org.apache.spark.sql.execution.QueryExecution.toRdd(QueryExecution.scala:206)\n\tat org.apache.spark.sql.Dataset.rdd$lzycompute(Dataset.scala:3861)\n\tat org.apache.spark.sql.Dataset.rdd(Dataset.scala:3859)\n\tat org.apache.spark.ml.util.Instrumentation.logDataset(Instrumentation.scala:62)\n\tat org.apache.spark.ml.regression.LinearRegression.$anonfun$train$1(LinearRegression.scala:331)\n\tat org.apache.spark.ml.util.Instrumentation$.$anonfun$instrumented$1(Instrumentation.scala:191)\n\tat scala.util.Try$.apply(Try.scala:213)\n\tat org.apache.spark.ml.util.Instrumentation$.instrumented(Instrumentation.scala:191)\n\tat org.apache.spark.ml.regression.LinearRegression.train(LinearRegression.scala:329)\n\tat org.apache.spark.ml.regression.LinearRegression.train(LinearRegression.scala:186)\n\tat org.apache.spark.ml.Predictor.fit(Predictor.scala:114)\n\tat java.base/jdk.internal.reflect.NativeMethodAccessorImpl.invoke0(Native Method)\n\tat java.base/jdk.internal.reflect.NativeMethodAccessorImpl.invoke(NativeMethodAccessorImpl.java:62)\n\tat java.base/jdk.internal.reflect.DelegatingMethodAccessorImpl.invoke(DelegatingMethodAccessorImpl.java:43)\n\tat java.base/java.lang.reflect.Method.invoke(Method.java:566)\n\tat py4j.reflection.MethodInvoker.invoke(MethodInvoker.java:244)\n\tat py4j.reflection.ReflectionEngine.invoke(ReflectionEngine.java:374)\n\tat py4j.Gateway.invoke(Gateway.java:282)\n\tat py4j.commands.AbstractCommand.invokeMethod(AbstractCommand.java:132)\n\tat py4j.commands.CallCommand.execute(CallCommand.java:79)\n\tat py4j.ClientServerConnection.waitForCommands(ClientServerConnection.java:182)\n\tat py4j.ClientServerConnection.run(ClientServerConnection.java:106)\n\tat java.base/java.lang.Thread.run(Thread.java:829)\n",
          "traceback": [
            "\u001b[0;31m---------------------------------------------------------------------------\u001b[0m",
            "\u001b[0;31mPy4JJavaError\u001b[0m                             Traceback (most recent call last)",
            "\u001b[0;32m<ipython-input-66-9a711e08ba6a>\u001b[0m in \u001b[0;36m<cell line: 1>\u001b[0;34m()\u001b[0m\n\u001b[0;32m----> 1\u001b[0;31m \u001b[0mlr\u001b[0m\u001b[0;34m.\u001b[0m\u001b[0mfit\u001b[0m\u001b[0;34m(\u001b[0m\u001b[0mtrain\u001b[0m\u001b[0;34m)\u001b[0m\u001b[0;34m.\u001b[0m\u001b[0mtransform\u001b[0m\u001b[0;34m(\u001b[0m\u001b[0mtest\u001b[0m\u001b[0;34m)\u001b[0m\u001b[0;34m.\u001b[0m\u001b[0mshow\u001b[0m\u001b[0;34m(\u001b[0m\u001b[0;34m)\u001b[0m\u001b[0;34m\u001b[0m\u001b[0;34m\u001b[0m\u001b[0m\n\u001b[0m",
            "\u001b[0;32m/usr/local/lib/python3.10/dist-packages/pyspark/ml/base.py\u001b[0m in \u001b[0;36mfit\u001b[0;34m(self, dataset, params)\u001b[0m\n\u001b[1;32m    203\u001b[0m                 \u001b[0;32mreturn\u001b[0m \u001b[0mself\u001b[0m\u001b[0;34m.\u001b[0m\u001b[0mcopy\u001b[0m\u001b[0;34m(\u001b[0m\u001b[0mparams\u001b[0m\u001b[0;34m)\u001b[0m\u001b[0;34m.\u001b[0m\u001b[0m_fit\u001b[0m\u001b[0;34m(\u001b[0m\u001b[0mdataset\u001b[0m\u001b[0;34m)\u001b[0m\u001b[0;34m\u001b[0m\u001b[0;34m\u001b[0m\u001b[0m\n\u001b[1;32m    204\u001b[0m             \u001b[0;32melse\u001b[0m\u001b[0;34m:\u001b[0m\u001b[0;34m\u001b[0m\u001b[0;34m\u001b[0m\u001b[0m\n\u001b[0;32m--> 205\u001b[0;31m                 \u001b[0;32mreturn\u001b[0m \u001b[0mself\u001b[0m\u001b[0;34m.\u001b[0m\u001b[0m_fit\u001b[0m\u001b[0;34m(\u001b[0m\u001b[0mdataset\u001b[0m\u001b[0;34m)\u001b[0m\u001b[0;34m\u001b[0m\u001b[0;34m\u001b[0m\u001b[0m\n\u001b[0m\u001b[1;32m    206\u001b[0m         \u001b[0;32melse\u001b[0m\u001b[0;34m:\u001b[0m\u001b[0;34m\u001b[0m\u001b[0;34m\u001b[0m\u001b[0m\n\u001b[1;32m    207\u001b[0m             raise TypeError(\n",
            "\u001b[0;32m/usr/local/lib/python3.10/dist-packages/pyspark/ml/wrapper.py\u001b[0m in \u001b[0;36m_fit\u001b[0;34m(self, dataset)\u001b[0m\n\u001b[1;32m    379\u001b[0m \u001b[0;34m\u001b[0m\u001b[0m\n\u001b[1;32m    380\u001b[0m     \u001b[0;32mdef\u001b[0m \u001b[0m_fit\u001b[0m\u001b[0;34m(\u001b[0m\u001b[0mself\u001b[0m\u001b[0;34m,\u001b[0m \u001b[0mdataset\u001b[0m\u001b[0;34m:\u001b[0m \u001b[0mDataFrame\u001b[0m\u001b[0;34m)\u001b[0m \u001b[0;34m->\u001b[0m \u001b[0mJM\u001b[0m\u001b[0;34m:\u001b[0m\u001b[0;34m\u001b[0m\u001b[0;34m\u001b[0m\u001b[0m\n\u001b[0;32m--> 381\u001b[0;31m         \u001b[0mjava_model\u001b[0m \u001b[0;34m=\u001b[0m \u001b[0mself\u001b[0m\u001b[0;34m.\u001b[0m\u001b[0m_fit_java\u001b[0m\u001b[0;34m(\u001b[0m\u001b[0mdataset\u001b[0m\u001b[0;34m)\u001b[0m\u001b[0;34m\u001b[0m\u001b[0;34m\u001b[0m\u001b[0m\n\u001b[0m\u001b[1;32m    382\u001b[0m         \u001b[0mmodel\u001b[0m \u001b[0;34m=\u001b[0m \u001b[0mself\u001b[0m\u001b[0;34m.\u001b[0m\u001b[0m_create_model\u001b[0m\u001b[0;34m(\u001b[0m\u001b[0mjava_model\u001b[0m\u001b[0;34m)\u001b[0m\u001b[0;34m\u001b[0m\u001b[0;34m\u001b[0m\u001b[0m\n\u001b[1;32m    383\u001b[0m         \u001b[0;32mreturn\u001b[0m \u001b[0mself\u001b[0m\u001b[0;34m.\u001b[0m\u001b[0m_copyValues\u001b[0m\u001b[0;34m(\u001b[0m\u001b[0mmodel\u001b[0m\u001b[0;34m)\u001b[0m\u001b[0;34m\u001b[0m\u001b[0;34m\u001b[0m\u001b[0m\n",
            "\u001b[0;32m/usr/local/lib/python3.10/dist-packages/pyspark/ml/wrapper.py\u001b[0m in \u001b[0;36m_fit_java\u001b[0;34m(self, dataset)\u001b[0m\n\u001b[1;32m    376\u001b[0m \u001b[0;34m\u001b[0m\u001b[0m\n\u001b[1;32m    377\u001b[0m         \u001b[0mself\u001b[0m\u001b[0;34m.\u001b[0m\u001b[0m_transfer_params_to_java\u001b[0m\u001b[0;34m(\u001b[0m\u001b[0;34m)\u001b[0m\u001b[0;34m\u001b[0m\u001b[0;34m\u001b[0m\u001b[0m\n\u001b[0;32m--> 378\u001b[0;31m         \u001b[0;32mreturn\u001b[0m \u001b[0mself\u001b[0m\u001b[0;34m.\u001b[0m\u001b[0m_java_obj\u001b[0m\u001b[0;34m.\u001b[0m\u001b[0mfit\u001b[0m\u001b[0;34m(\u001b[0m\u001b[0mdataset\u001b[0m\u001b[0;34m.\u001b[0m\u001b[0m_jdf\u001b[0m\u001b[0;34m)\u001b[0m\u001b[0;34m\u001b[0m\u001b[0;34m\u001b[0m\u001b[0m\n\u001b[0m\u001b[1;32m    379\u001b[0m \u001b[0;34m\u001b[0m\u001b[0m\n\u001b[1;32m    380\u001b[0m     \u001b[0;32mdef\u001b[0m \u001b[0m_fit\u001b[0m\u001b[0;34m(\u001b[0m\u001b[0mself\u001b[0m\u001b[0;34m,\u001b[0m \u001b[0mdataset\u001b[0m\u001b[0;34m:\u001b[0m \u001b[0mDataFrame\u001b[0m\u001b[0;34m)\u001b[0m \u001b[0;34m->\u001b[0m \u001b[0mJM\u001b[0m\u001b[0;34m:\u001b[0m\u001b[0;34m\u001b[0m\u001b[0;34m\u001b[0m\u001b[0m\n",
            "\u001b[0;32m/usr/local/lib/python3.10/dist-packages/py4j/java_gateway.py\u001b[0m in \u001b[0;36m__call__\u001b[0;34m(self, *args)\u001b[0m\n\u001b[1;32m   1320\u001b[0m \u001b[0;34m\u001b[0m\u001b[0m\n\u001b[1;32m   1321\u001b[0m         \u001b[0manswer\u001b[0m \u001b[0;34m=\u001b[0m \u001b[0mself\u001b[0m\u001b[0;34m.\u001b[0m\u001b[0mgateway_client\u001b[0m\u001b[0;34m.\u001b[0m\u001b[0msend_command\u001b[0m\u001b[0;34m(\u001b[0m\u001b[0mcommand\u001b[0m\u001b[0;34m)\u001b[0m\u001b[0;34m\u001b[0m\u001b[0;34m\u001b[0m\u001b[0m\n\u001b[0;32m-> 1322\u001b[0;31m         return_value = get_return_value(\n\u001b[0m\u001b[1;32m   1323\u001b[0m             answer, self.gateway_client, self.target_id, self.name)\n\u001b[1;32m   1324\u001b[0m \u001b[0;34m\u001b[0m\u001b[0m\n",
            "\u001b[0;32m/usr/local/lib/python3.10/dist-packages/pyspark/errors/exceptions/captured.py\u001b[0m in \u001b[0;36mdeco\u001b[0;34m(*a, **kw)\u001b[0m\n\u001b[1;32m    177\u001b[0m     \u001b[0;32mdef\u001b[0m \u001b[0mdeco\u001b[0m\u001b[0;34m(\u001b[0m\u001b[0;34m*\u001b[0m\u001b[0ma\u001b[0m\u001b[0;34m:\u001b[0m \u001b[0mAny\u001b[0m\u001b[0;34m,\u001b[0m \u001b[0;34m**\u001b[0m\u001b[0mkw\u001b[0m\u001b[0;34m:\u001b[0m \u001b[0mAny\u001b[0m\u001b[0;34m)\u001b[0m \u001b[0;34m->\u001b[0m \u001b[0mAny\u001b[0m\u001b[0;34m:\u001b[0m\u001b[0;34m\u001b[0m\u001b[0;34m\u001b[0m\u001b[0m\n\u001b[1;32m    178\u001b[0m         \u001b[0;32mtry\u001b[0m\u001b[0;34m:\u001b[0m\u001b[0;34m\u001b[0m\u001b[0;34m\u001b[0m\u001b[0m\n\u001b[0;32m--> 179\u001b[0;31m             \u001b[0;32mreturn\u001b[0m \u001b[0mf\u001b[0m\u001b[0;34m(\u001b[0m\u001b[0;34m*\u001b[0m\u001b[0ma\u001b[0m\u001b[0;34m,\u001b[0m \u001b[0;34m**\u001b[0m\u001b[0mkw\u001b[0m\u001b[0;34m)\u001b[0m\u001b[0;34m\u001b[0m\u001b[0;34m\u001b[0m\u001b[0m\n\u001b[0m\u001b[1;32m    180\u001b[0m         \u001b[0;32mexcept\u001b[0m \u001b[0mPy4JJavaError\u001b[0m \u001b[0;32mas\u001b[0m \u001b[0me\u001b[0m\u001b[0;34m:\u001b[0m\u001b[0;34m\u001b[0m\u001b[0;34m\u001b[0m\u001b[0m\n\u001b[1;32m    181\u001b[0m             \u001b[0mconverted\u001b[0m \u001b[0;34m=\u001b[0m \u001b[0mconvert_exception\u001b[0m\u001b[0;34m(\u001b[0m\u001b[0me\u001b[0m\u001b[0;34m.\u001b[0m\u001b[0mjava_exception\u001b[0m\u001b[0;34m)\u001b[0m\u001b[0;34m\u001b[0m\u001b[0;34m\u001b[0m\u001b[0m\n",
            "\u001b[0;32m/usr/local/lib/python3.10/dist-packages/py4j/protocol.py\u001b[0m in \u001b[0;36mget_return_value\u001b[0;34m(answer, gateway_client, target_id, name)\u001b[0m\n\u001b[1;32m    324\u001b[0m             \u001b[0mvalue\u001b[0m \u001b[0;34m=\u001b[0m \u001b[0mOUTPUT_CONVERTER\u001b[0m\u001b[0;34m[\u001b[0m\u001b[0mtype\u001b[0m\u001b[0;34m]\u001b[0m\u001b[0;34m(\u001b[0m\u001b[0manswer\u001b[0m\u001b[0;34m[\u001b[0m\u001b[0;36m2\u001b[0m\u001b[0;34m:\u001b[0m\u001b[0;34m]\u001b[0m\u001b[0;34m,\u001b[0m \u001b[0mgateway_client\u001b[0m\u001b[0;34m)\u001b[0m\u001b[0;34m\u001b[0m\u001b[0;34m\u001b[0m\u001b[0m\n\u001b[1;32m    325\u001b[0m             \u001b[0;32mif\u001b[0m \u001b[0manswer\u001b[0m\u001b[0;34m[\u001b[0m\u001b[0;36m1\u001b[0m\u001b[0;34m]\u001b[0m \u001b[0;34m==\u001b[0m \u001b[0mREFERENCE_TYPE\u001b[0m\u001b[0;34m:\u001b[0m\u001b[0;34m\u001b[0m\u001b[0;34m\u001b[0m\u001b[0m\n\u001b[0;32m--> 326\u001b[0;31m                 raise Py4JJavaError(\n\u001b[0m\u001b[1;32m    327\u001b[0m                     \u001b[0;34m\"An error occurred while calling {0}{1}{2}.\\n\"\u001b[0m\u001b[0;34m.\u001b[0m\u001b[0;34m\u001b[0m\u001b[0;34m\u001b[0m\u001b[0m\n\u001b[1;32m    328\u001b[0m                     format(target_id, \".\", name), value)\n",
            "\u001b[0;31mPy4JJavaError\u001b[0m: An error occurred while calling o372.fit.\n: java.lang.IllegalStateException: Cannot call methods on a stopped SparkContext.\nThis stopped SparkContext was created at:\n\norg.apache.spark.api.java.JavaSparkContext.<init>(JavaSparkContext.scala:58)\njava.base/jdk.internal.reflect.NativeConstructorAccessorImpl.newInstance0(Native Method)\njava.base/jdk.internal.reflect.NativeConstructorAccessorImpl.newInstance(NativeConstructorAccessorImpl.java:62)\njava.base/jdk.internal.reflect.DelegatingConstructorAccessorImpl.newInstance(DelegatingConstructorAccessorImpl.java:45)\njava.base/java.lang.reflect.Constructor.newInstance(Constructor.java:490)\npy4j.reflection.MethodInvoker.invoke(MethodInvoker.java:247)\npy4j.reflection.ReflectionEngine.invoke(ReflectionEngine.java:374)\npy4j.Gateway.invoke(Gateway.java:238)\npy4j.commands.ConstructorCommand.invokeConstructor(ConstructorCommand.java:80)\npy4j.commands.ConstructorCommand.execute(ConstructorCommand.java:69)\npy4j.ClientServerConnection.waitForCommands(ClientServerConnection.java:182)\npy4j.ClientServerConnection.run(ClientServerConnection.java:106)\njava.base/java.lang.Thread.run(Thread.java:829)\n\nThe currently active SparkContext was created at:\n\norg.apache.spark.api.java.JavaSparkContext.<init>(JavaSparkContext.scala:58)\njava.base/jdk.internal.reflect.NativeConstructorAccessorImpl.newInstance0(Native Method)\njava.base/jdk.internal.reflect.NativeConstructorAccessorImpl.newInstance(NativeConstructorAccessorImpl.java:62)\njava.base/jdk.internal.reflect.DelegatingConstructorAccessorImpl.newInstance(DelegatingConstructorAccessorImpl.java:45)\njava.base/java.lang.reflect.Constructor.newInstance(Constructor.java:490)\npy4j.reflection.MethodInvoker.invoke(MethodInvoker.java:247)\npy4j.reflection.ReflectionEngine.invoke(ReflectionEngine.java:374)\npy4j.Gateway.invoke(Gateway.java:238)\npy4j.commands.ConstructorCommand.invokeConstructor(ConstructorCommand.java:80)\npy4j.commands.ConstructorCommand.execute(ConstructorCommand.java:69)\npy4j.ClientServerConnection.waitForCommands(ClientServerConnection.java:182)\npy4j.ClientServerConnection.run(ClientServerConnection.java:106)\njava.base/java.lang.Thread.run(Thread.java:829)\n         \n\tat org.apache.spark.SparkContext.assertNotStopped(SparkContext.scala:122)\n\tat org.apache.spark.SparkContext.broadcastInternal(SparkContext.scala:1659)\n\tat org.apache.spark.SparkContext.broadcast(SparkContext.scala:1644)\n\tat org.apache.spark.sql.execution.datasources.csv.CSVFileFormat.buildReader(CSVFileFormat.scala:102)\n\tat org.apache.spark.sql.execution.datasources.FileFormat.buildReaderWithPartitionValues(FileFormat.scala:138)\n\tat org.apache.spark.sql.execution.datasources.FileFormat.buildReaderWithPartitionValues$(FileFormat.scala:129)\n\tat org.apache.spark.sql.execution.datasources.TextBasedFileFormat.buildReaderWithPartitionValues(FileFormat.scala:346)\n\tat org.apache.spark.sql.execution.FileSourceScanExec.inputRDD$lzycompute(DataSourceScanExec.scala:548)\n\tat org.apache.spark.sql.execution.FileSourceScanExec.inputRDD(DataSourceScanExec.scala:537)\n\tat org.apache.spark.sql.execution.FileSourceScanExec.doExecute(DataSourceScanExec.scala:575)\n\tat org.apache.spark.sql.execution.SparkPlan.$anonfun$execute$1(SparkPlan.scala:195)\n\tat org.apache.spark.sql.execution.SparkPlan.$anonfun$executeQuery$1(SparkPlan.scala:246)\n\tat org.apache.spark.rdd.RDDOperationScope$.withScope(RDDOperationScope.scala:151)\n\tat org.apache.spark.sql.execution.SparkPlan.executeQuery(SparkPlan.scala:243)\n\tat org.apache.spark.sql.execution.SparkPlan.execute(SparkPlan.scala:191)\n\tat org.apache.spark.sql.execution.InputAdapter.inputRDD(WholeStageCodegenExec.scala:527)\n\tat org.apache.spark.sql.execution.InputRDDCodegen.inputRDDs(WholeStageCodegenExec.scala:455)\n\tat org.apache.spark.sql.execution.InputRDDCodegen.inputRDDs$(WholeStageCodegenExec.scala:454)\n\tat org.apache.spark.sql.execution.InputAdapter.inputRDDs(WholeStageCodegenExec.scala:498)\n\tat org.apache.spark.sql.execution.ProjectExec.inputRDDs(basicPhysicalOperators.scala:51)\n\tat org.apache.spark.sql.execution.ProjectExec.inputRDDs(basicPhysicalOperators.scala:51)\n\tat org.apache.spark.sql.execution.SortExec.inputRDDs(SortExec.scala:132)\n\tat org.apache.spark.sql.execution.SampleExec.inputRDDs(basicPhysicalOperators.scala:345)\n\tat org.apache.spark.sql.execution.WholeStageCodegenExec.doExecute(WholeStageCodegenExec.scala:751)\n\tat org.apache.spark.sql.execution.SparkPlan.$anonfun$execute$1(SparkPlan.scala:195)\n\tat org.apache.spark.sql.execution.SparkPlan.$anonfun$executeQuery$1(SparkPlan.scala:246)\n\tat org.apache.spark.rdd.RDDOperationScope$.withScope(RDDOperationScope.scala:151)\n\tat org.apache.spark.sql.execution.SparkPlan.executeQuery(SparkPlan.scala:243)\n\tat org.apache.spark.sql.execution.SparkPlan.execute(SparkPlan.scala:191)\n\tat org.apache.spark.sql.execution.DeserializeToObjectExec.doExecute(objects.scala:93)\n\tat org.apache.spark.sql.execution.SparkPlan.$anonfun$execute$1(SparkPlan.scala:195)\n\tat org.apache.spark.sql.execution.SparkPlan.$anonfun$executeQuery$1(SparkPlan.scala:246)\n\tat org.apache.spark.rdd.RDDOperationScope$.withScope(RDDOperationScope.scala:151)\n\tat org.apache.spark.sql.execution.SparkPlan.executeQuery(SparkPlan.scala:243)\n\tat org.apache.spark.sql.execution.SparkPlan.execute(SparkPlan.scala:191)\n\tat org.apache.spark.sql.execution.QueryExecution.toRdd$lzycompute(QueryExecution.scala:207)\n\tat org.apache.spark.sql.execution.QueryExecution.toRdd(QueryExecution.scala:206)\n\tat org.apache.spark.sql.Dataset.rdd$lzycompute(Dataset.scala:3861)\n\tat org.apache.spark.sql.Dataset.rdd(Dataset.scala:3859)\n\tat org.apache.spark.ml.util.Instrumentation.logDataset(Instrumentation.scala:62)\n\tat org.apache.spark.ml.regression.LinearRegression.$anonfun$train$1(LinearRegression.scala:331)\n\tat org.apache.spark.ml.util.Instrumentation$.$anonfun$instrumented$1(Instrumentation.scala:191)\n\tat scala.util.Try$.apply(Try.scala:213)\n\tat org.apache.spark.ml.util.Instrumentation$.instrumented(Instrumentation.scala:191)\n\tat org.apache.spark.ml.regression.LinearRegression.train(LinearRegression.scala:329)\n\tat org.apache.spark.ml.regression.LinearRegression.train(LinearRegression.scala:186)\n\tat org.apache.spark.ml.Predictor.fit(Predictor.scala:114)\n\tat java.base/jdk.internal.reflect.NativeMethodAccessorImpl.invoke0(Native Method)\n\tat java.base/jdk.internal.reflect.NativeMethodAccessorImpl.invoke(NativeMethodAccessorImpl.java:62)\n\tat java.base/jdk.internal.reflect.DelegatingMethodAccessorImpl.invoke(DelegatingMethodAccessorImpl.java:43)\n\tat java.base/java.lang.reflect.Method.invoke(Method.java:566)\n\tat py4j.reflection.MethodInvoker.invoke(MethodInvoker.java:244)\n\tat py4j.reflection.ReflectionEngine.invoke(ReflectionEngine.java:374)\n\tat py4j.Gateway.invoke(Gateway.java:282)\n\tat py4j.commands.AbstractCommand.invokeMethod(AbstractCommand.java:132)\n\tat py4j.commands.CallCommand.execute(CallCommand.java:79)\n\tat py4j.ClientServerConnection.waitForCommands(ClientServerConnection.java:182)\n\tat py4j.ClientServerConnection.run(ClientServerConnection.java:106)\n\tat java.base/java.lang.Thread.run(Thread.java:829)\n"
          ]
        }
      ]
    },
    {
      "cell_type": "code",
      "source": [
        "lr.fit(train).evaluate(test).rootMeanSquaredError"
      ],
      "metadata": {
        "colab": {
          "base_uri": "https://localhost:8080/"
        },
        "id": "t13lSFhRhKlh",
        "outputId": "4e3104bb-dd4d-44d7-f8d8-9819814e9ec8"
      },
      "execution_count": null,
      "outputs": [
        {
          "output_type": "execute_result",
          "data": {
            "text/plain": [
              "9.02495119628211"
            ]
          },
          "metadata": {},
          "execution_count": 35
        }
      ]
    },
    {
      "cell_type": "code",
      "source": [
        "spark.stop()"
      ],
      "metadata": {
        "id": "Li4Darb_hKrP"
      },
      "execution_count": null,
      "outputs": []
    },
    {
      "cell_type": "markdown",
      "source": [
        "# **Clustering**"
      ],
      "metadata": {
        "id": "RAEVxnUlh7l3"
      }
    },
    {
      "cell_type": "code",
      "source": [
        "spark = SparkSession.builder.getOrCreate()"
      ],
      "metadata": {
        "id": "u6lH0xzCh9gg"
      },
      "execution_count": null,
      "outputs": []
    },
    {
      "cell_type": "code",
      "source": [
        "sdf = spark.read.csv('/content/seeds_dataset.csv',header=True,inferSchema=True)"
      ],
      "metadata": {
        "id": "NYDnlumqh-Bp"
      },
      "execution_count": null,
      "outputs": []
    },
    {
      "cell_type": "code",
      "source": [
        "sdf.show()"
      ],
      "metadata": {
        "colab": {
          "base_uri": "https://localhost:8080/"
        },
        "id": "ef5PSZD1h-E9",
        "outputId": "c0daa4ef-bdb1-4007-f893-6e48b4dfe1f2"
      },
      "execution_count": null,
      "outputs": [
        {
          "output_type": "stream",
          "name": "stdout",
          "text": [
            "+-----+---------+-----------+------------------+------------------+---------------------+------------------+\n",
            "| area|perimeter|compactness|  length_of_kernel|   width_of_kernel|asymmetry_coefficient|  length_of_groove|\n",
            "+-----+---------+-----------+------------------+------------------+---------------------+------------------+\n",
            "|15.26|    14.84|      0.871|             5.763|             3.312|                2.221|              5.22|\n",
            "|14.88|    14.57|     0.8811| 5.553999999999999|             3.333|                1.018|             4.956|\n",
            "|14.29|    14.09|      0.905|             5.291|3.3369999999999997|                2.699|             4.825|\n",
            "|13.84|    13.94|     0.8955|             5.324|3.3789999999999996|                2.259|             4.805|\n",
            "|16.14|    14.99|     0.9034|5.6579999999999995|             3.562|                1.355|             5.175|\n",
            "|14.38|    14.21|     0.8951|             5.386|             3.312|   2.4619999999999997|             4.956|\n",
            "|14.69|    14.49|     0.8799|             5.563|             3.259|   3.5860000000000003| 5.218999999999999|\n",
            "|14.11|     14.1|     0.8911|              5.42|             3.302|                  2.7|               5.0|\n",
            "|16.63|    15.46|     0.8747|             6.053|             3.465|                 2.04| 5.877000000000001|\n",
            "|16.44|    15.25|      0.888|5.8839999999999995|             3.505|                1.969|5.5329999999999995|\n",
            "|15.26|    14.85|     0.8696|5.7139999999999995|             3.242|                4.543|             5.314|\n",
            "|14.03|    14.16|     0.8796|             5.438|             3.201|   1.7169999999999999|             5.001|\n",
            "|13.89|    14.02|      0.888|             5.439|             3.199|                3.986|             4.738|\n",
            "|13.78|    14.06|     0.8759|             5.479|             3.156|                3.136|             4.872|\n",
            "|13.74|    14.05|     0.8744|             5.482|             3.114|                2.932|             4.825|\n",
            "|14.59|    14.28|     0.8993|             5.351|             3.333|                4.185| 4.781000000000001|\n",
            "|13.99|    13.83|     0.9183|             5.119|             3.383|                5.234| 4.781000000000001|\n",
            "|15.69|    14.75|     0.9058|             5.527|             3.514|                1.599|             5.046|\n",
            "| 14.7|    14.21|     0.9153|             5.205|             3.466|                1.767|             4.649|\n",
            "|12.72|    13.57|     0.8686|             5.226|             3.049|                4.102|             4.914|\n",
            "+-----+---------+-----------+------------------+------------------+---------------------+------------------+\n",
            "only showing top 20 rows\n",
            "\n"
          ]
        }
      ]
    },
    {
      "cell_type": "code",
      "source": [
        "sdf.describe().show()"
      ],
      "metadata": {
        "colab": {
          "base_uri": "https://localhost:8080/"
        },
        "id": "m1WHzHObkZdz",
        "outputId": "ee7cd1bd-d5f3-43e0-f36a-7021a11a2904"
      },
      "execution_count": null,
      "outputs": [
        {
          "output_type": "stream",
          "name": "stdout",
          "text": [
            "+-------+------------------+------------------+--------------------+-------------------+------------------+---------------------+-------------------+\n",
            "|summary|              area|         perimeter|         compactness|   length_of_kernel|   width_of_kernel|asymmetry_coefficient|   length_of_groove|\n",
            "+-------+------------------+------------------+--------------------+-------------------+------------------+---------------------+-------------------+\n",
            "|  count|               210|               210|                 210|                210|               210|                  210|                210|\n",
            "|   mean|14.847523809523816|14.559285714285718|  0.8709985714285714|  5.628533333333335| 3.258604761904762|   3.7001999999999997|  5.408071428571429|\n",
            "| stddev|2.9096994306873647|1.3059587265640225|0.023629416583846364|0.44306347772644983|0.3777144449065867|   1.5035589702547392|0.49148049910240543|\n",
            "|    min|             10.59|             12.41|              0.8081|              4.899|              2.63|                0.765|              4.519|\n",
            "|    max|             21.18|             17.25|              0.9183|              6.675|             4.033|                8.456|               6.55|\n",
            "+-------+------------------+------------------+--------------------+-------------------+------------------+---------------------+-------------------+\n",
            "\n"
          ]
        }
      ]
    },
    {
      "cell_type": "code",
      "source": [
        "sdf.columns"
      ],
      "metadata": {
        "colab": {
          "base_uri": "https://localhost:8080/"
        },
        "id": "QB9K4bMvkjOP",
        "outputId": "5cde219b-d943-471a-fb87-6441bcec68f1"
      },
      "execution_count": null,
      "outputs": [
        {
          "output_type": "execute_result",
          "data": {
            "text/plain": [
              "['area',\n",
              " 'perimeter',\n",
              " 'compactness',\n",
              " 'length_of_kernel',\n",
              " 'width_of_kernel',\n",
              " 'asymmetry_coefficient',\n",
              " 'length_of_groove']"
            ]
          },
          "metadata": {},
          "execution_count": 49
        }
      ]
    },
    {
      "cell_type": "code",
      "source": [
        "from pyspark.ml.feature import VectorAssembler"
      ],
      "metadata": {
        "id": "cgNsGiE6kuEY"
      },
      "execution_count": null,
      "outputs": []
    },
    {
      "cell_type": "code",
      "source": [
        "va = VectorAssembler(inputCols=['area',\n",
        " 'perimeter',\n",
        " 'compactness',\n",
        " 'length_of_kernel',\n",
        " 'width_of_kernel',\n",
        " 'asymmetry_coefficient',\n",
        " 'length_of_groove'], outputCol='X')"
      ],
      "metadata": {
        "id": "WKCY6NBskxs7"
      },
      "execution_count": null,
      "outputs": []
    },
    {
      "cell_type": "code",
      "source": [
        "sdf = va.transform(sdf)"
      ],
      "metadata": {
        "id": "4oKEjCCqk63l"
      },
      "execution_count": null,
      "outputs": []
    },
    {
      "cell_type": "code",
      "source": [
        "sdf.show()"
      ],
      "metadata": {
        "colab": {
          "base_uri": "https://localhost:8080/"
        },
        "id": "-G4dfqFSk_Tz",
        "outputId": "f738b201-787c-487e-eea0-facc6b15b729"
      },
      "execution_count": null,
      "outputs": [
        {
          "output_type": "stream",
          "name": "stdout",
          "text": [
            "+-----+---------+-----------+------------------+------------------+---------------------+------------------+--------------------+\n",
            "| area|perimeter|compactness|  length_of_kernel|   width_of_kernel|asymmetry_coefficient|  length_of_groove|                   X|\n",
            "+-----+---------+-----------+------------------+------------------+---------------------+------------------+--------------------+\n",
            "|15.26|    14.84|      0.871|             5.763|             3.312|                2.221|              5.22|[15.26,14.84,0.87...|\n",
            "|14.88|    14.57|     0.8811| 5.553999999999999|             3.333|                1.018|             4.956|[14.88,14.57,0.88...|\n",
            "|14.29|    14.09|      0.905|             5.291|3.3369999999999997|                2.699|             4.825|[14.29,14.09,0.90...|\n",
            "|13.84|    13.94|     0.8955|             5.324|3.3789999999999996|                2.259|             4.805|[13.84,13.94,0.89...|\n",
            "|16.14|    14.99|     0.9034|5.6579999999999995|             3.562|                1.355|             5.175|[16.14,14.99,0.90...|\n",
            "|14.38|    14.21|     0.8951|             5.386|             3.312|   2.4619999999999997|             4.956|[14.38,14.21,0.89...|\n",
            "|14.69|    14.49|     0.8799|             5.563|             3.259|   3.5860000000000003| 5.218999999999999|[14.69,14.49,0.87...|\n",
            "|14.11|     14.1|     0.8911|              5.42|             3.302|                  2.7|               5.0|[14.11,14.1,0.891...|\n",
            "|16.63|    15.46|     0.8747|             6.053|             3.465|                 2.04| 5.877000000000001|[16.63,15.46,0.87...|\n",
            "|16.44|    15.25|      0.888|5.8839999999999995|             3.505|                1.969|5.5329999999999995|[16.44,15.25,0.88...|\n",
            "|15.26|    14.85|     0.8696|5.7139999999999995|             3.242|                4.543|             5.314|[15.26,14.85,0.86...|\n",
            "|14.03|    14.16|     0.8796|             5.438|             3.201|   1.7169999999999999|             5.001|[14.03,14.16,0.87...|\n",
            "|13.89|    14.02|      0.888|             5.439|             3.199|                3.986|             4.738|[13.89,14.02,0.88...|\n",
            "|13.78|    14.06|     0.8759|             5.479|             3.156|                3.136|             4.872|[13.78,14.06,0.87...|\n",
            "|13.74|    14.05|     0.8744|             5.482|             3.114|                2.932|             4.825|[13.74,14.05,0.87...|\n",
            "|14.59|    14.28|     0.8993|             5.351|             3.333|                4.185| 4.781000000000001|[14.59,14.28,0.89...|\n",
            "|13.99|    13.83|     0.9183|             5.119|             3.383|                5.234| 4.781000000000001|[13.99,13.83,0.91...|\n",
            "|15.69|    14.75|     0.9058|             5.527|             3.514|                1.599|             5.046|[15.69,14.75,0.90...|\n",
            "| 14.7|    14.21|     0.9153|             5.205|             3.466|                1.767|             4.649|[14.7,14.21,0.915...|\n",
            "|12.72|    13.57|     0.8686|             5.226|             3.049|                4.102|             4.914|[12.72,13.57,0.86...|\n",
            "+-----+---------+-----------+------------------+------------------+---------------------+------------------+--------------------+\n",
            "only showing top 20 rows\n",
            "\n"
          ]
        }
      ]
    },
    {
      "cell_type": "code",
      "source": [
        "from pyspark.ml.feature import StandardScaler"
      ],
      "metadata": {
        "id": "DCXJLxrilBKY"
      },
      "execution_count": null,
      "outputs": []
    },
    {
      "cell_type": "code",
      "source": [
        "ss = StandardScaler(inputCol='X',outputCol='sX')"
      ],
      "metadata": {
        "id": "bWbDRIgSlQRo"
      },
      "execution_count": null,
      "outputs": []
    },
    {
      "cell_type": "code",
      "source": [
        "sdf = ss.fit(sdf).transform(sdf)"
      ],
      "metadata": {
        "id": "Lc-_oRcYlbI_"
      },
      "execution_count": null,
      "outputs": []
    },
    {
      "cell_type": "code",
      "source": [
        "sdf.show()"
      ],
      "metadata": {
        "colab": {
          "base_uri": "https://localhost:8080/"
        },
        "id": "T_frOv13lgox",
        "outputId": "a38cb621-872f-4f53-d262-fe11c764c755"
      },
      "execution_count": null,
      "outputs": [
        {
          "output_type": "stream",
          "name": "stdout",
          "text": [
            "+-----+---------+-----------+------------------+------------------+---------------------+------------------+--------------------+--------------------+\n",
            "| area|perimeter|compactness|  length_of_kernel|   width_of_kernel|asymmetry_coefficient|  length_of_groove|                   X|                  sX|\n",
            "+-----+---------+-----------+------------------+------------------+---------------------+------------------+--------------------+--------------------+\n",
            "|15.26|    14.84|      0.871|             5.763|             3.312|                2.221|              5.22|[15.26,14.84,0.87...|[5.24452795332028...|\n",
            "|14.88|    14.57|     0.8811| 5.553999999999999|             3.333|                1.018|             4.956|[14.88,14.57,0.88...|[5.11393027165175...|\n",
            "|14.29|    14.09|      0.905|             5.291|3.3369999999999997|                2.699|             4.825|[14.29,14.09,0.90...|[4.91116018695588...|\n",
            "|13.84|    13.94|     0.8955|             5.324|3.3789999999999996|                2.259|             4.805|[13.84,13.94,0.89...|[4.75650503761158...|\n",
            "|16.14|    14.99|     0.9034|5.6579999999999995|             3.562|                1.355|             5.175|[16.14,14.99,0.90...|[5.54696468981581...|\n",
            "|14.38|    14.21|     0.8951|             5.386|             3.312|   2.4619999999999997|             4.956|[14.38,14.21,0.89...|[4.94209121682475...|\n",
            "|14.69|    14.49|     0.8799|             5.563|             3.259|   3.5860000000000003| 5.218999999999999|[14.69,14.49,0.87...|[5.04863143081749...|\n",
            "|14.11|     14.1|     0.8911|              5.42|             3.302|                  2.7|               5.0|[14.11,14.1,0.891...|[4.84929812721816...|\n",
            "|16.63|    15.46|     0.8747|             6.053|             3.465|                 2.04| 5.877000000000001|[16.63,15.46,0.87...|[5.71536696354628...|\n",
            "|16.44|    15.25|      0.888|5.8839999999999995|             3.505|                1.969|5.5329999999999995|[16.44,15.25,0.88...|[5.65006812271202...|\n",
            "|15.26|    14.85|     0.8696|5.7139999999999995|             3.242|                4.543|             5.314|[15.26,14.85,0.86...|[5.24452795332028...|\n",
            "|14.03|    14.16|     0.8796|             5.438|             3.201|   1.7169999999999999|             5.001|[14.03,14.16,0.87...|[4.82180387844584...|\n",
            "|13.89|    14.02|      0.888|             5.439|             3.199|                3.986|             4.738|[13.89,14.02,0.88...|[4.77368894309428...|\n",
            "|13.78|    14.06|     0.8759|             5.479|             3.156|                3.136|             4.872|[13.78,14.06,0.87...|[4.73588435103234...|\n",
            "|13.74|    14.05|     0.8744|             5.482|             3.114|                2.932|             4.825|[13.74,14.05,0.87...|[4.72213722664617...|\n",
            "|14.59|    14.28|     0.8993|             5.351|             3.333|                4.185| 4.781000000000001|[14.59,14.28,0.89...|[5.01426361985209...|\n",
            "|13.99|    13.83|     0.9183|             5.119|             3.383|                5.234| 4.781000000000001|[13.99,13.83,0.91...|[4.80805675405968...|\n",
            "|15.69|    14.75|     0.9058|             5.527|             3.514|                1.599|             5.046|[15.69,14.75,0.90...|[5.39230954047151...|\n",
            "| 14.7|    14.21|     0.9153|             5.205|             3.466|                1.767|             4.649|[14.7,14.21,0.915...|[5.05206821191403...|\n",
            "|12.72|    13.57|     0.8686|             5.226|             3.049|                4.102|             4.914|[12.72,13.57,0.86...|[4.37158555479908...|\n",
            "+-----+---------+-----------+------------------+------------------+---------------------+------------------+--------------------+--------------------+\n",
            "only showing top 20 rows\n",
            "\n"
          ]
        }
      ]
    },
    {
      "cell_type": "code",
      "source": [
        "from pyspark.ml.clustering import KMeans"
      ],
      "metadata": {
        "id": "Y9_gDUWOliRl"
      },
      "execution_count": null,
      "outputs": []
    },
    {
      "cell_type": "code",
      "source": [
        "km = KMeans(featuresCol='sX',k = 3)"
      ],
      "metadata": {
        "id": "mvGF0m_ImBDK"
      },
      "execution_count": null,
      "outputs": []
    },
    {
      "cell_type": "code",
      "source": [
        "model = km.fit(sdf)"
      ],
      "metadata": {
        "id": "7xfx37UcmjhM"
      },
      "execution_count": null,
      "outputs": []
    },
    {
      "cell_type": "code",
      "source": [
        "model.clusterCenters()"
      ],
      "metadata": {
        "colab": {
          "base_uri": "https://localhost:8080/"
        },
        "id": "B_h3zT4LmstN",
        "outputId": "4a810e19-4a34-4991-b951-8109b051c90d"
      },
      "execution_count": null,
      "outputs": [
        {
          "output_type": "execute_result",
          "data": {
            "text/plain": [
              "[array([ 4.0648023 , 10.14242485, 35.82143905, 11.81918014,  7.51855717,\n",
              "         3.19361875, 10.40520609]),\n",
              " array([ 6.32636687, 12.38115343, 37.39222755, 13.9206997 ,  9.75485787,\n",
              "         2.41428142, 12.28078861]),\n",
              " array([ 4.91309043, 10.92012526, 37.32658724, 12.37724251,  8.59393872,\n",
              "         1.8226071 , 10.35389957])]"
            ]
          },
          "metadata": {},
          "execution_count": 62
        }
      ]
    },
    {
      "cell_type": "code",
      "source": [
        "model.transform(sdf).show()"
      ],
      "metadata": {
        "colab": {
          "base_uri": "https://localhost:8080/"
        },
        "id": "pbl0m2ZOnJrW",
        "outputId": "5a90fa39-7ab5-4d73-add3-544f6e4d07eb"
      },
      "execution_count": null,
      "outputs": [
        {
          "output_type": "stream",
          "name": "stdout",
          "text": [
            "+-----+---------+-----------+------------------+------------------+---------------------+------------------+--------------------+--------------------+----------+\n",
            "| area|perimeter|compactness|  length_of_kernel|   width_of_kernel|asymmetry_coefficient|  length_of_groove|                   X|                  sX|prediction|\n",
            "+-----+---------+-----------+------------------+------------------+---------------------+------------------+--------------------+--------------------+----------+\n",
            "|15.26|    14.84|      0.871|             5.763|             3.312|                2.221|              5.22|[15.26,14.84,0.87...|[5.24452795332028...|         2|\n",
            "|14.88|    14.57|     0.8811| 5.553999999999999|             3.333|                1.018|             4.956|[14.88,14.57,0.88...|[5.11393027165175...|         2|\n",
            "|14.29|    14.09|      0.905|             5.291|3.3369999999999997|                2.699|             4.825|[14.29,14.09,0.90...|[4.91116018695588...|         2|\n",
            "|13.84|    13.94|     0.8955|             5.324|3.3789999999999996|                2.259|             4.805|[13.84,13.94,0.89...|[4.75650503761158...|         2|\n",
            "|16.14|    14.99|     0.9034|5.6579999999999995|             3.562|                1.355|             5.175|[16.14,14.99,0.90...|[5.54696468981581...|         2|\n",
            "|14.38|    14.21|     0.8951|             5.386|             3.312|   2.4619999999999997|             4.956|[14.38,14.21,0.89...|[4.94209121682475...|         2|\n",
            "|14.69|    14.49|     0.8799|             5.563|             3.259|   3.5860000000000003| 5.218999999999999|[14.69,14.49,0.87...|[5.04863143081749...|         2|\n",
            "|14.11|     14.1|     0.8911|              5.42|             3.302|                  2.7|               5.0|[14.11,14.1,0.891...|[4.84929812721816...|         2|\n",
            "|16.63|    15.46|     0.8747|             6.053|             3.465|                 2.04| 5.877000000000001|[16.63,15.46,0.87...|[5.71536696354628...|         1|\n",
            "|16.44|    15.25|      0.888|5.8839999999999995|             3.505|                1.969|5.5329999999999995|[16.44,15.25,0.88...|[5.65006812271202...|         2|\n",
            "|15.26|    14.85|     0.8696|5.7139999999999995|             3.242|                4.543|             5.314|[15.26,14.85,0.86...|[5.24452795332028...|         2|\n",
            "|14.03|    14.16|     0.8796|             5.438|             3.201|   1.7169999999999999|             5.001|[14.03,14.16,0.87...|[4.82180387844584...|         2|\n",
            "|13.89|    14.02|      0.888|             5.439|             3.199|                3.986|             4.738|[13.89,14.02,0.88...|[4.77368894309428...|         2|\n",
            "|13.78|    14.06|     0.8759|             5.479|             3.156|                3.136|             4.872|[13.78,14.06,0.87...|[4.73588435103234...|         2|\n",
            "|13.74|    14.05|     0.8744|             5.482|             3.114|                2.932|             4.825|[13.74,14.05,0.87...|[4.72213722664617...|         2|\n",
            "|14.59|    14.28|     0.8993|             5.351|             3.333|                4.185| 4.781000000000001|[14.59,14.28,0.89...|[5.01426361985209...|         2|\n",
            "|13.99|    13.83|     0.9183|             5.119|             3.383|                5.234| 4.781000000000001|[13.99,13.83,0.91...|[4.80805675405968...|         2|\n",
            "|15.69|    14.75|     0.9058|             5.527|             3.514|                1.599|             5.046|[15.69,14.75,0.90...|[5.39230954047151...|         2|\n",
            "| 14.7|    14.21|     0.9153|             5.205|             3.466|                1.767|             4.649|[14.7,14.21,0.915...|[5.05206821191403...|         2|\n",
            "|12.72|    13.57|     0.8686|             5.226|             3.049|                4.102|             4.914|[12.72,13.57,0.86...|[4.37158555479908...|         0|\n",
            "+-----+---------+-----------+------------------+------------------+---------------------+------------------+--------------------+--------------------+----------+\n",
            "only showing top 20 rows\n",
            "\n"
          ]
        }
      ]
    },
    {
      "cell_type": "code",
      "source": [],
      "metadata": {
        "id": "IGageTtNnV4l"
      },
      "execution_count": null,
      "outputs": []
    }
  ]
}